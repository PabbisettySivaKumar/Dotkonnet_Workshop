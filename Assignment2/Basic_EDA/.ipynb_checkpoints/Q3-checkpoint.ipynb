{
 "cells": [
  {
   "cell_type": "code",
   "execution_count": 1,
   "id": "62d1c9ce-0c6d-42a9-a24d-1ef7a4354e25",
   "metadata": {},
   "outputs": [],
   "source": [
    "import nltk\n",
    "from nltk.corpus import stopwords\n",
    "from collections import Counter"
   ]
  },
  {
   "cell_type": "code",
   "execution_count": 18,
   "id": "3de1b387-0a95-4895-a732-1d1be30301b7",
   "metadata": {},
   "outputs": [
    {
     "name": "stderr",
     "output_type": "stream",
     "text": [
      "[nltk_data] Downloading package punkt to /Users/sivakumar/nltk_data...\n",
      "[nltk_data]   Package punkt is already up-to-date!\n",
      "[nltk_data] Downloading package punkt_tab to\n",
      "[nltk_data]     /Users/sivakumar/nltk_data...\n",
      "[nltk_data]   Package punkt_tab is already up-to-date!\n",
      "[nltk_data] Downloading package stopwords to\n",
      "[nltk_data]     /Users/sivakumar/nltk_data...\n",
      "[nltk_data]   Package stopwords is already up-to-date!\n",
      "[nltk_data] Downloading package averaged_perceptron_tagger to\n",
      "[nltk_data]     /Users/sivakumar/nltk_data...\n",
      "[nltk_data]   Package averaged_perceptron_tagger is already up-to-\n",
      "[nltk_data]       date!\n",
      "[nltk_data] Downloading package averaged_perceptron_tagger_eng to\n",
      "[nltk_data]     /Users/sivakumar/nltk_data...\n",
      "[nltk_data]   Unzipping taggers/averaged_perceptron_tagger_eng.zip.\n"
     ]
    },
    {
     "data": {
      "text/plain": [
       "True"
      ]
     },
     "execution_count": 18,
     "metadata": {},
     "output_type": "execute_result"
    }
   ],
   "source": [
    "nltk.download(\"punkt\")\n",
    "nltk.download(\"punkt_tab\")\n",
    "nltk.download(\"stopwords\")\n",
    "nltk.download(\"averaged_perceptron_tagger\")\n",
    "nltk.download(\"averaged_perceptron_tagger_eng\")"
   ]
  },
  {
   "cell_type": "code",
   "execution_count": 10,
   "id": "62006b6f-ebf6-4dc1-a116-33ff40474626",
   "metadata": {},
   "outputs": [
    {
     "data": {
      "text/plain": [
       "'President Donald Trump announced he is invoking the District of Columbia Home Rule Act to bring the D.C. Metropolitan Police Department under direct federal control - a rare and contentious step. The US President further added that National Guard troops would be deployed to Washington, D.C., to “re-establish law, order, and public safety,” stressing they would be allowed to carry out their duties without restriction.'"
      ]
     },
     "execution_count": 10,
     "metadata": {},
     "output_type": "execute_result"
    }
   ],
   "source": [
    "text= '''President Donald Trump announced he is invoking the District of Columbia Home Rule Act to bring the D.C. Metropolitan Police Department under direct federal control - a rare and contentious step. The US President further added that National Guard troops would be deployed to Washington, D.C., to “re-establish law, order, and public safety,” stressing they would be allowed to carry out their duties without restriction.'''\n",
    "text"
   ]
  },
  {
   "cell_type": "markdown",
   "id": "3a64b725-5ed7-4d1a-892a-46afa4058f37",
   "metadata": {},
   "source": [
    "#### Tokenization "
   ]
  },
  {
   "cell_type": "code",
   "execution_count": 11,
   "id": "35cf0544-4cfe-480c-a85c-db08bff8a04b",
   "metadata": {},
   "outputs": [
    {
     "data": {
      "text/plain": [
       "['President',\n",
       " 'Donald',\n",
       " 'Trump',\n",
       " 'announced',\n",
       " 'he',\n",
       " 'is',\n",
       " 'invoking',\n",
       " 'the',\n",
       " 'District',\n",
       " 'of',\n",
       " 'Columbia',\n",
       " 'Home',\n",
       " 'Rule',\n",
       " 'Act',\n",
       " 'to',\n",
       " 'bring',\n",
       " 'the',\n",
       " 'D.C.',\n",
       " 'Metropolitan',\n",
       " 'Police',\n",
       " 'Department',\n",
       " 'under',\n",
       " 'direct',\n",
       " 'federal',\n",
       " 'control',\n",
       " '-',\n",
       " 'a',\n",
       " 'rare',\n",
       " 'and',\n",
       " 'contentious',\n",
       " 'step',\n",
       " '.',\n",
       " 'The',\n",
       " 'US',\n",
       " 'President',\n",
       " 'further',\n",
       " 'added',\n",
       " 'that',\n",
       " 'National',\n",
       " 'Guard',\n",
       " 'troops',\n",
       " 'would',\n",
       " 'be',\n",
       " 'deployed',\n",
       " 'to',\n",
       " 'Washington',\n",
       " ',',\n",
       " 'D.C.',\n",
       " ',',\n",
       " 'to',\n",
       " '“',\n",
       " 're-establish',\n",
       " 'law',\n",
       " ',',\n",
       " 'order',\n",
       " ',',\n",
       " 'and',\n",
       " 'public',\n",
       " 'safety',\n",
       " ',',\n",
       " '”',\n",
       " 'stressing',\n",
       " 'they',\n",
       " 'would',\n",
       " 'be',\n",
       " 'allowed',\n",
       " 'to',\n",
       " 'carry',\n",
       " 'out',\n",
       " 'their',\n",
       " 'duties',\n",
       " 'without',\n",
       " 'restriction',\n",
       " '.']"
      ]
     },
     "execution_count": 11,
     "metadata": {},
     "output_type": "execute_result"
    }
   ],
   "source": [
    "tokens= nltk.word_tokenize(text)\n",
    "tokens"
   ]
  },
  {
   "cell_type": "markdown",
   "id": "48a5b218-1cc2-4d5b-a90a-72c7d93cd618",
   "metadata": {},
   "source": [
    "### Remove Stop Words"
   ]
  },
  {
   "cell_type": "code",
   "execution_count": 16,
   "id": "1c056d6c-b6c0-4985-8613-c22588e14ea7",
   "metadata": {},
   "outputs": [
    {
     "data": {
      "text/plain": [
       "['President',\n",
       " 'Donald',\n",
       " 'Trump',\n",
       " 'announced',\n",
       " 'invoking',\n",
       " 'District',\n",
       " 'Columbia',\n",
       " 'Home',\n",
       " 'Rule',\n",
       " 'Act',\n",
       " 'bring',\n",
       " 'Metropolitan',\n",
       " 'Police',\n",
       " 'Department',\n",
       " 'direct',\n",
       " 'federal',\n",
       " 'control',\n",
       " 'rare',\n",
       " 'contentious',\n",
       " 'step',\n",
       " 'US',\n",
       " 'President',\n",
       " 'added',\n",
       " 'National',\n",
       " 'Guard',\n",
       " 'troops',\n",
       " 'would',\n",
       " 'deployed',\n",
       " 'Washington',\n",
       " 'law',\n",
       " 'order',\n",
       " 'public',\n",
       " 'safety',\n",
       " 'stressing',\n",
       " 'would',\n",
       " 'allowed',\n",
       " 'carry',\n",
       " 'duties',\n",
       " 'without',\n",
       " 'restriction']"
      ]
     },
     "execution_count": 16,
     "metadata": {},
     "output_type": "execute_result"
    }
   ],
   "source": [
    "stop_words= set(stopwords.words('english'))\n",
    "\n",
    "filtered_tokens= [word for word in tokens if word.lower() not in stop_words and word.isalpha()]\n",
    "\n",
    "filtered_tokens"
   ]
  },
  {
   "cell_type": "markdown",
   "id": "4c15f8a4-f762-4334-b985-7972e42b9309",
   "metadata": {},
   "source": [
    "### POS Tagging"
   ]
  },
  {
   "cell_type": "code",
   "execution_count": 19,
   "id": "f33ad96e-87af-49fe-9872-2357be4af7e0",
   "metadata": {},
   "outputs": [
    {
     "data": {
      "text/plain": [
       "[('President', 'NNP'),\n",
       " ('Donald', 'NNP'),\n",
       " ('Trump', 'NNP'),\n",
       " ('announced', 'VBD'),\n",
       " ('invoking', 'VBG'),\n",
       " ('District', 'NNP'),\n",
       " ('Columbia', 'NNP'),\n",
       " ('Home', 'NNP'),\n",
       " ('Rule', 'NNP'),\n",
       " ('Act', 'NNP'),\n",
       " ('bring', 'VB'),\n",
       " ('Metropolitan', 'NNP'),\n",
       " ('Police', 'NNP'),\n",
       " ('Department', 'NNP'),\n",
       " ('direct', 'JJ'),\n",
       " ('federal', 'JJ'),\n",
       " ('control', 'NN'),\n",
       " ('rare', 'JJ'),\n",
       " ('contentious', 'JJ'),\n",
       " ('step', 'NN'),\n",
       " ('US', 'NNP'),\n",
       " ('President', 'NNP'),\n",
       " ('added', 'VBD'),\n",
       " ('National', 'NNP'),\n",
       " ('Guard', 'NNP'),\n",
       " ('troops', 'NNS'),\n",
       " ('would', 'MD'),\n",
       " ('deployed', 'VB'),\n",
       " ('Washington', 'NNP'),\n",
       " ('law', 'NN'),\n",
       " ('order', 'NN'),\n",
       " ('public', 'JJ'),\n",
       " ('safety', 'NN'),\n",
       " ('stressing', 'VBG'),\n",
       " ('would', 'MD'),\n",
       " ('allowed', 'VB'),\n",
       " ('carry', 'JJ'),\n",
       " ('duties', 'NNS'),\n",
       " ('without', 'IN'),\n",
       " ('restriction', 'NN')]"
      ]
     },
     "execution_count": 19,
     "metadata": {},
     "output_type": "execute_result"
    }
   ],
   "source": [
    "pos_tags= nltk.pos_tag(filtered_tokens)\n",
    "pos_tags"
   ]
  },
  {
   "cell_type": "markdown",
   "id": "6aabb55c-00ac-4601-a465-c7febd85571f",
   "metadata": {},
   "source": [
    "### Counts"
   ]
  },
  {
   "cell_type": "code",
   "execution_count": 21,
   "id": "5ac069c8-90fd-4af1-a48f-ec9c0bae41f4",
   "metadata": {},
   "outputs": [
    {
     "name": "stdout",
     "output_type": "stream",
     "text": [
      "Counter({'Noun': 24, 'Verb': 7, 'Adjectives': 6})\n"
     ]
    }
   ],
   "source": [
    "counts= Counter()\n",
    "\n",
    "for word, tag in pos_tags:\n",
    "\n",
    "    if tag.startswith(\"JJ\"):\n",
    "        counts['Adjectives'] += 1\n",
    "    elif tag.startswith(\"NN\"):\n",
    "        counts['Noun']+= 1\n",
    "    elif tag.startswith(\"VB\"):\n",
    "        counts['Verb']+= 1\n",
    "\n",
    "print(counts)"
   ]
  },
  {
   "cell_type": "code",
   "execution_count": null,
   "id": "66251048-3094-4e69-a6a1-59ea013cfa01",
   "metadata": {},
   "outputs": [],
   "source": []
  }
 ],
 "metadata": {
  "kernelspec": {
   "display_name": "Python (ml_project)",
   "language": "python",
   "name": "ml_project_env"
  },
  "language_info": {
   "codemirror_mode": {
    "name": "ipython",
    "version": 3
   },
   "file_extension": ".py",
   "mimetype": "text/x-python",
   "name": "python",
   "nbconvert_exporter": "python",
   "pygments_lexer": "ipython3",
   "version": "3.9.6"
  },
  "widgets": {
   "application/vnd.jupyter.widget-state+json": {
    "state": {},
    "version_major": 2,
    "version_minor": 0
   }
  }
 },
 "nbformat": 4,
 "nbformat_minor": 5
}
