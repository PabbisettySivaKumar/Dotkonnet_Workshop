{
 "cells": [
  {
   "cell_type": "code",
   "execution_count": 5,
   "id": "1c1826a2-0c4f-4127-a6b6-07d7186de4a3",
   "metadata": {},
   "outputs": [
    {
     "name": "stderr",
     "output_type": "stream",
     "text": [
      "huggingface/tokenizers: The current process just got forked, after parallelism has already been used. Disabling parallelism to avoid deadlocks...\n",
      "To disable this warning, you can either:\n",
      "\t- Avoid using `tokenizers` before the fork if possible\n",
      "\t- Explicitly set the environment variable TOKENIZERS_PARALLELISM=(true | false)\n"
     ]
    },
    {
     "name": "stdout",
     "output_type": "stream",
     "text": [
      "Requirement already satisfied: chromadb in /Users/sivakumar/projects/ml_project/venv/lib/python3.9/site-packages (1.0.20)\n",
      "Requirement already satisfied: sentence-transformers in /Users/sivakumar/projects/ml_project/venv/lib/python3.9/site-packages (5.1.0)\n",
      "Requirement already satisfied: build>=1.0.3 in /Users/sivakumar/projects/ml_project/venv/lib/python3.9/site-packages (from chromadb) (1.3.0)\n",
      "Requirement already satisfied: pydantic>=1.9 in /Users/sivakumar/projects/ml_project/venv/lib/python3.9/site-packages (from chromadb) (2.11.7)\n",
      "Requirement already satisfied: pybase64>=1.4.1 in /Users/sivakumar/projects/ml_project/venv/lib/python3.9/site-packages (from chromadb) (1.4.2)\n",
      "Requirement already satisfied: uvicorn>=0.18.3 in /Users/sivakumar/projects/ml_project/venv/lib/python3.9/site-packages (from uvicorn[standard]>=0.18.3->chromadb) (0.35.0)\n",
      "Requirement already satisfied: numpy>=1.22.5 in /Users/sivakumar/projects/ml_project/venv/lib/python3.9/site-packages (from chromadb) (2.0.2)\n",
      "Requirement already satisfied: posthog<6.0.0,>=2.4.0 in /Users/sivakumar/projects/ml_project/venv/lib/python3.9/site-packages (from chromadb) (5.4.0)\n",
      "Requirement already satisfied: typing-extensions>=4.5.0 in /Users/sivakumar/projects/ml_project/venv/lib/python3.9/site-packages (from chromadb) (4.13.2)\n",
      "Requirement already satisfied: onnxruntime>=1.14.1 in /Users/sivakumar/projects/ml_project/venv/lib/python3.9/site-packages (from chromadb) (1.19.2)\n",
      "Requirement already satisfied: opentelemetry-api>=1.2.0 in /Users/sivakumar/projects/ml_project/venv/lib/python3.9/site-packages (from chromadb) (1.36.0)\n",
      "Requirement already satisfied: opentelemetry-exporter-otlp-proto-grpc>=1.2.0 in /Users/sivakumar/projects/ml_project/venv/lib/python3.9/site-packages (from chromadb) (1.36.0)\n",
      "Requirement already satisfied: opentelemetry-sdk>=1.2.0 in /Users/sivakumar/projects/ml_project/venv/lib/python3.9/site-packages (from chromadb) (1.36.0)\n",
      "Requirement already satisfied: tokenizers>=0.13.2 in /Users/sivakumar/projects/ml_project/venv/lib/python3.9/site-packages (from chromadb) (0.21.4)\n",
      "Requirement already satisfied: pypika>=0.48.9 in /Users/sivakumar/projects/ml_project/venv/lib/python3.9/site-packages (from chromadb) (0.48.9)\n",
      "Requirement already satisfied: tqdm>=4.65.0 in /Users/sivakumar/projects/ml_project/venv/lib/python3.9/site-packages (from chromadb) (4.67.1)\n",
      "Requirement already satisfied: overrides>=7.3.1 in /Users/sivakumar/projects/ml_project/venv/lib/python3.9/site-packages (from chromadb) (7.7.0)\n",
      "Requirement already satisfied: importlib-resources in /Users/sivakumar/projects/ml_project/venv/lib/python3.9/site-packages (from chromadb) (6.5.2)\n",
      "Requirement already satisfied: grpcio>=1.58.0 in /Users/sivakumar/projects/ml_project/venv/lib/python3.9/site-packages (from chromadb) (1.74.0)\n",
      "Requirement already satisfied: bcrypt>=4.0.1 in /Users/sivakumar/projects/ml_project/venv/lib/python3.9/site-packages (from chromadb) (4.3.0)\n",
      "Requirement already satisfied: typer>=0.9.0 in /Users/sivakumar/projects/ml_project/venv/lib/python3.9/site-packages (from chromadb) (0.16.0)\n",
      "Requirement already satisfied: kubernetes>=28.1.0 in /Users/sivakumar/projects/ml_project/venv/lib/python3.9/site-packages (from chromadb) (33.1.0)\n",
      "Requirement already satisfied: tenacity>=8.2.3 in /Users/sivakumar/projects/ml_project/venv/lib/python3.9/site-packages (from chromadb) (9.1.2)\n",
      "Requirement already satisfied: pyyaml>=6.0.0 in /Users/sivakumar/projects/ml_project/venv/lib/python3.9/site-packages (from chromadb) (6.0.2)\n",
      "Requirement already satisfied: mmh3>=4.0.1 in /Users/sivakumar/projects/ml_project/venv/lib/python3.9/site-packages (from chromadb) (5.2.0)\n",
      "Requirement already satisfied: orjson>=3.9.12 in /Users/sivakumar/projects/ml_project/venv/lib/python3.9/site-packages (from chromadb) (3.11.2)\n",
      "Requirement already satisfied: httpx>=0.27.0 in /Users/sivakumar/projects/ml_project/venv/lib/python3.9/site-packages (from chromadb) (0.28.1)\n",
      "Requirement already satisfied: rich>=10.11.0 in /Users/sivakumar/projects/ml_project/venv/lib/python3.9/site-packages (from chromadb) (14.0.0)\n",
      "Requirement already satisfied: jsonschema>=4.19.0 in /Users/sivakumar/projects/ml_project/venv/lib/python3.9/site-packages (from chromadb) (4.23.0)\n",
      "Requirement already satisfied: requests<3.0,>=2.7 in /Users/sivakumar/projects/ml_project/venv/lib/python3.9/site-packages (from posthog<6.0.0,>=2.4.0->chromadb) (2.32.3)\n",
      "Requirement already satisfied: six>=1.5 in /Users/sivakumar/projects/ml_project/venv/lib/python3.9/site-packages (from posthog<6.0.0,>=2.4.0->chromadb) (1.17.0)\n",
      "Requirement already satisfied: python-dateutil>=2.2 in /Users/sivakumar/projects/ml_project/venv/lib/python3.9/site-packages (from posthog<6.0.0,>=2.4.0->chromadb) (2.9.0.post0)\n",
      "Requirement already satisfied: backoff>=1.10.0 in /Users/sivakumar/projects/ml_project/venv/lib/python3.9/site-packages (from posthog<6.0.0,>=2.4.0->chromadb) (2.2.1)\n",
      "Requirement already satisfied: distro>=1.5.0 in /Users/sivakumar/projects/ml_project/venv/lib/python3.9/site-packages (from posthog<6.0.0,>=2.4.0->chromadb) (1.9.0)\n",
      "Requirement already satisfied: charset-normalizer<4,>=2 in /Users/sivakumar/projects/ml_project/venv/lib/python3.9/site-packages (from requests<3.0,>=2.7->posthog<6.0.0,>=2.4.0->chromadb) (3.4.2)\n",
      "Requirement already satisfied: idna<4,>=2.5 in /Users/sivakumar/projects/ml_project/venv/lib/python3.9/site-packages (from requests<3.0,>=2.7->posthog<6.0.0,>=2.4.0->chromadb) (3.10)\n",
      "Requirement already satisfied: urllib3<3,>=1.21.1 in /Users/sivakumar/projects/ml_project/venv/lib/python3.9/site-packages (from requests<3.0,>=2.7->posthog<6.0.0,>=2.4.0->chromadb) (2.4.0)\n",
      "Requirement already satisfied: certifi>=2017.4.17 in /Users/sivakumar/projects/ml_project/venv/lib/python3.9/site-packages (from requests<3.0,>=2.7->posthog<6.0.0,>=2.4.0->chromadb) (2025.4.26)\n",
      "Requirement already satisfied: transformers<5.0.0,>=4.41.0 in /Users/sivakumar/projects/ml_project/venv/lib/python3.9/site-packages (from sentence-transformers) (4.55.0)\n",
      "Requirement already satisfied: torch>=1.11.0 in /Users/sivakumar/projects/ml_project/venv/lib/python3.9/site-packages (from sentence-transformers) (2.7.0)\n",
      "Requirement already satisfied: scikit-learn in /Users/sivakumar/projects/ml_project/venv/lib/python3.9/site-packages (from sentence-transformers) (1.6.1)\n",
      "Requirement already satisfied: scipy in /Users/sivakumar/projects/ml_project/venv/lib/python3.9/site-packages (from sentence-transformers) (1.13.1)\n",
      "Requirement already satisfied: huggingface-hub>=0.20.0 in /Users/sivakumar/projects/ml_project/venv/lib/python3.9/site-packages (from sentence-transformers) (0.34.4)\n",
      "Requirement already satisfied: Pillow in /Users/sivakumar/projects/ml_project/venv/lib/python3.9/site-packages (from sentence-transformers) (11.2.1)\n",
      "Requirement already satisfied: filelock in /Users/sivakumar/projects/ml_project/venv/lib/python3.9/site-packages (from transformers<5.0.0,>=4.41.0->sentence-transformers) (3.18.0)\n",
      "Requirement already satisfied: packaging>=20.0 in /Users/sivakumar/projects/ml_project/venv/lib/python3.9/site-packages (from transformers<5.0.0,>=4.41.0->sentence-transformers) (25.0)\n",
      "Requirement already satisfied: regex!=2019.12.17 in /Users/sivakumar/projects/ml_project/venv/lib/python3.9/site-packages (from transformers<5.0.0,>=4.41.0->sentence-transformers) (2025.7.34)\n",
      "Requirement already satisfied: safetensors>=0.4.3 in /Users/sivakumar/projects/ml_project/venv/lib/python3.9/site-packages (from transformers<5.0.0,>=4.41.0->sentence-transformers) (0.6.2)\n",
      "Requirement already satisfied: fsspec>=2023.5.0 in /Users/sivakumar/projects/ml_project/venv/lib/python3.9/site-packages (from huggingface-hub>=0.20.0->sentence-transformers) (2025.3.0)\n",
      "Requirement already satisfied: hf-xet<2.0.0,>=1.1.3 in /Users/sivakumar/projects/ml_project/venv/lib/python3.9/site-packages (from huggingface-hub>=0.20.0->sentence-transformers) (1.1.7)\n",
      "Requirement already satisfied: pyproject_hooks in /Users/sivakumar/projects/ml_project/venv/lib/python3.9/site-packages (from build>=1.0.3->chromadb) (1.2.0)\n",
      "Requirement already satisfied: importlib-metadata>=4.6 in /Users/sivakumar/projects/ml_project/venv/lib/python3.9/site-packages (from build>=1.0.3->chromadb) (8.7.0)\n",
      "Requirement already satisfied: tomli>=1.1.0 in /Users/sivakumar/projects/ml_project/venv/lib/python3.9/site-packages (from build>=1.0.3->chromadb) (2.2.1)\n",
      "Requirement already satisfied: anyio in /Users/sivakumar/projects/ml_project/venv/lib/python3.9/site-packages (from httpx>=0.27.0->chromadb) (4.9.0)\n",
      "Requirement already satisfied: httpcore==1.* in /Users/sivakumar/projects/ml_project/venv/lib/python3.9/site-packages (from httpx>=0.27.0->chromadb) (1.0.9)\n",
      "Requirement already satisfied: h11>=0.16 in /Users/sivakumar/projects/ml_project/venv/lib/python3.9/site-packages (from httpcore==1.*->httpx>=0.27.0->chromadb) (0.16.0)\n",
      "Requirement already satisfied: zipp>=3.20 in /Users/sivakumar/projects/ml_project/venv/lib/python3.9/site-packages (from importlib-metadata>=4.6->build>=1.0.3->chromadb) (3.21.0)\n",
      "Requirement already satisfied: attrs>=22.2.0 in /Users/sivakumar/projects/ml_project/venv/lib/python3.9/site-packages (from jsonschema>=4.19.0->chromadb) (25.3.0)\n",
      "Requirement already satisfied: jsonschema-specifications>=2023.03.6 in /Users/sivakumar/projects/ml_project/venv/lib/python3.9/site-packages (from jsonschema>=4.19.0->chromadb) (2025.4.1)\n",
      "Requirement already satisfied: referencing>=0.28.4 in /Users/sivakumar/projects/ml_project/venv/lib/python3.9/site-packages (from jsonschema>=4.19.0->chromadb) (0.36.2)\n",
      "Requirement already satisfied: rpds-py>=0.7.1 in /Users/sivakumar/projects/ml_project/venv/lib/python3.9/site-packages (from jsonschema>=4.19.0->chromadb) (0.25.1)\n",
      "Requirement already satisfied: google-auth>=1.0.1 in /Users/sivakumar/projects/ml_project/venv/lib/python3.9/site-packages (from kubernetes>=28.1.0->chromadb) (2.40.3)\n",
      "Requirement already satisfied: websocket-client!=0.40.0,!=0.41.*,!=0.42.*,>=0.32.0 in /Users/sivakumar/projects/ml_project/venv/lib/python3.9/site-packages (from kubernetes>=28.1.0->chromadb) (1.8.0)\n",
      "Requirement already satisfied: requests-oauthlib in /Users/sivakumar/projects/ml_project/venv/lib/python3.9/site-packages (from kubernetes>=28.1.0->chromadb) (2.0.0)\n",
      "Requirement already satisfied: oauthlib>=3.2.2 in /Users/sivakumar/projects/ml_project/venv/lib/python3.9/site-packages (from kubernetes>=28.1.0->chromadb) (3.3.1)\n",
      "Requirement already satisfied: durationpy>=0.7 in /Users/sivakumar/projects/ml_project/venv/lib/python3.9/site-packages (from kubernetes>=28.1.0->chromadb) (0.10)\n",
      "Requirement already satisfied: cachetools<6.0,>=2.0.0 in /Users/sivakumar/projects/ml_project/venv/lib/python3.9/site-packages (from google-auth>=1.0.1->kubernetes>=28.1.0->chromadb) (5.5.2)\n",
      "Requirement already satisfied: pyasn1-modules>=0.2.1 in /Users/sivakumar/projects/ml_project/venv/lib/python3.9/site-packages (from google-auth>=1.0.1->kubernetes>=28.1.0->chromadb) (0.4.2)\n",
      "Requirement already satisfied: rsa<5,>=3.1.4 in /Users/sivakumar/projects/ml_project/venv/lib/python3.9/site-packages (from google-auth>=1.0.1->kubernetes>=28.1.0->chromadb) (4.9.1)\n",
      "Requirement already satisfied: pyasn1>=0.1.3 in /Users/sivakumar/projects/ml_project/venv/lib/python3.9/site-packages (from rsa<5,>=3.1.4->google-auth>=1.0.1->kubernetes>=28.1.0->chromadb) (0.6.1)\n",
      "Requirement already satisfied: coloredlogs in /Users/sivakumar/projects/ml_project/venv/lib/python3.9/site-packages (from onnxruntime>=1.14.1->chromadb) (15.0.1)\n",
      "Requirement already satisfied: flatbuffers in /Users/sivakumar/projects/ml_project/venv/lib/python3.9/site-packages (from onnxruntime>=1.14.1->chromadb) (25.2.10)\n",
      "Requirement already satisfied: protobuf in /Users/sivakumar/projects/ml_project/venv/lib/python3.9/site-packages (from onnxruntime>=1.14.1->chromadb) (5.29.5)\n",
      "Requirement already satisfied: sympy in /Users/sivakumar/projects/ml_project/venv/lib/python3.9/site-packages (from onnxruntime>=1.14.1->chromadb) (1.14.0)\n",
      "Requirement already satisfied: googleapis-common-protos~=1.57 in /Users/sivakumar/projects/ml_project/venv/lib/python3.9/site-packages (from opentelemetry-exporter-otlp-proto-grpc>=1.2.0->chromadb) (1.70.0)\n",
      "Requirement already satisfied: opentelemetry-exporter-otlp-proto-common==1.36.0 in /Users/sivakumar/projects/ml_project/venv/lib/python3.9/site-packages (from opentelemetry-exporter-otlp-proto-grpc>=1.2.0->chromadb) (1.36.0)\n",
      "Requirement already satisfied: opentelemetry-proto==1.36.0 in /Users/sivakumar/projects/ml_project/venv/lib/python3.9/site-packages (from opentelemetry-exporter-otlp-proto-grpc>=1.2.0->chromadb) (1.36.0)\n",
      "Requirement already satisfied: opentelemetry-semantic-conventions==0.57b0 in /Users/sivakumar/projects/ml_project/venv/lib/python3.9/site-packages (from opentelemetry-sdk>=1.2.0->chromadb) (0.57b0)\n",
      "Requirement already satisfied: annotated-types>=0.6.0 in /Users/sivakumar/projects/ml_project/venv/lib/python3.9/site-packages (from pydantic>=1.9->chromadb) (0.7.0)\n",
      "Requirement already satisfied: pydantic-core==2.33.2 in /Users/sivakumar/projects/ml_project/venv/lib/python3.9/site-packages (from pydantic>=1.9->chromadb) (2.33.2)\n",
      "Requirement already satisfied: typing-inspection>=0.4.0 in /Users/sivakumar/projects/ml_project/venv/lib/python3.9/site-packages (from pydantic>=1.9->chromadb) (0.4.1)\n",
      "Requirement already satisfied: markdown-it-py>=2.2.0 in /Users/sivakumar/projects/ml_project/venv/lib/python3.9/site-packages (from rich>=10.11.0->chromadb) (3.0.0)\n",
      "Requirement already satisfied: pygments<3.0.0,>=2.13.0 in /Users/sivakumar/projects/ml_project/venv/lib/python3.9/site-packages (from rich>=10.11.0->chromadb) (2.19.1)\n",
      "Requirement already satisfied: mdurl~=0.1 in /Users/sivakumar/projects/ml_project/venv/lib/python3.9/site-packages (from markdown-it-py>=2.2.0->rich>=10.11.0->chromadb) (0.1.2)\n",
      "Requirement already satisfied: networkx in /Users/sivakumar/projects/ml_project/venv/lib/python3.9/site-packages (from torch>=1.11.0->sentence-transformers) (3.2.1)\n",
      "Requirement already satisfied: jinja2 in /Users/sivakumar/projects/ml_project/venv/lib/python3.9/site-packages (from torch>=1.11.0->sentence-transformers) (3.1.6)\n",
      "Requirement already satisfied: mpmath<1.4,>=1.1.0 in /Users/sivakumar/projects/ml_project/venv/lib/python3.9/site-packages (from sympy->onnxruntime>=1.14.1->chromadb) (1.3.0)\n",
      "Requirement already satisfied: click>=8.0.0 in /Users/sivakumar/projects/ml_project/venv/lib/python3.9/site-packages (from typer>=0.9.0->chromadb) (8.1.8)\n",
      "Requirement already satisfied: shellingham>=1.3.0 in /Users/sivakumar/projects/ml_project/venv/lib/python3.9/site-packages (from typer>=0.9.0->chromadb) (1.5.4)\n",
      "Requirement already satisfied: httptools>=0.6.3 in /Users/sivakumar/projects/ml_project/venv/lib/python3.9/site-packages (from uvicorn[standard]>=0.18.3->chromadb) (0.6.4)\n",
      "Requirement already satisfied: python-dotenv>=0.13 in /Users/sivakumar/projects/ml_project/venv/lib/python3.9/site-packages (from uvicorn[standard]>=0.18.3->chromadb) (1.1.1)\n",
      "Requirement already satisfied: uvloop>=0.15.1 in /Users/sivakumar/projects/ml_project/venv/lib/python3.9/site-packages (from uvicorn[standard]>=0.18.3->chromadb) (0.21.0)\n",
      "Requirement already satisfied: watchfiles>=0.13 in /Users/sivakumar/projects/ml_project/venv/lib/python3.9/site-packages (from uvicorn[standard]>=0.18.3->chromadb) (1.1.0)\n",
      "Requirement already satisfied: websockets>=10.4 in /Users/sivakumar/projects/ml_project/venv/lib/python3.9/site-packages (from uvicorn[standard]>=0.18.3->chromadb) (15.0.1)\n",
      "Requirement already satisfied: exceptiongroup>=1.0.2 in /Users/sivakumar/projects/ml_project/venv/lib/python3.9/site-packages (from anyio->httpx>=0.27.0->chromadb) (1.3.0)\n",
      "Requirement already satisfied: sniffio>=1.1 in /Users/sivakumar/projects/ml_project/venv/lib/python3.9/site-packages (from anyio->httpx>=0.27.0->chromadb) (1.3.1)\n",
      "Requirement already satisfied: humanfriendly>=9.1 in /Users/sivakumar/projects/ml_project/venv/lib/python3.9/site-packages (from coloredlogs->onnxruntime>=1.14.1->chromadb) (10.0)\n",
      "Requirement already satisfied: MarkupSafe>=2.0 in /Users/sivakumar/projects/ml_project/venv/lib/python3.9/site-packages (from jinja2->torch>=1.11.0->sentence-transformers) (3.0.2)\n",
      "Requirement already satisfied: joblib>=1.2.0 in /Users/sivakumar/projects/ml_project/venv/lib/python3.9/site-packages (from scikit-learn->sentence-transformers) (1.5.0)\n",
      "Requirement already satisfied: threadpoolctl>=3.1.0 in /Users/sivakumar/projects/ml_project/venv/lib/python3.9/site-packages (from scikit-learn->sentence-transformers) (3.6.0)\n"
     ]
    }
   ],
   "source": [
    "import chromadb\n",
    "!pip install chromadb sentence-transformers\n",
    "chroma_client = chromadb.Client()"
   ]
  },
  {
   "cell_type": "code",
   "execution_count": 3,
   "id": "738a8010-65f0-4f1a-94b9-f04a15352b3c",
   "metadata": {},
   "outputs": [
    {
     "name": "stderr",
     "output_type": "stream",
     "text": [
      "/Users/sivakumar/.cache/chroma/onnx_models/all-MiniLM-L6-v2/onnx.tar.gz: 100%|█|\n"
     ]
    },
    {
     "name": "stdout",
     "output_type": "stream",
     "text": [
      "{'ids': [['id2', 'id3']], 'embeddings': None, 'documents': [['Chroma is cool', 'I love machine learning']], 'uris': None, 'included': ['metadatas', 'documents', 'distances'], 'data': None, 'metadatas': [[{'source': 'note2'}, {'source': 'note3'}]], 'distances': [[1.448229193687439, 1.625745415687561]]}\n"
     ]
    }
   ],
   "source": [
    "import chromadb\n",
    "\n",
    "# Create a Chroma client (in-memory by default)\n",
    "client = chromadb.Client()\n",
    "\n",
    "# Create a collection (like a table in a DB)\n",
    "collection = client.create_collection(name=\"my_collection\")\n",
    "\n",
    "# Add some documents + embeddings\n",
    "collection.add(\n",
    "    documents=[\"Hello world\", \"Chroma is cool\", \"I love machine learning\"],\n",
    "    metadatas=[{\"source\": \"note1\"}, {\"source\": \"note2\"}, {\"source\": \"note3\"}],\n",
    "    ids=[\"id1\", \"id2\", \"id3\"]\n",
    ")\n",
    "\n",
    "# Query the collection\n",
    "results = collection.query(\n",
    "    query_texts=[\"What do you like?\"],  # The query text\n",
    "    n_results=2                         # How many results to return\n",
    ")\n",
    "\n",
    "print(results)\n"
   ]
  },
  {
   "cell_type": "code",
   "execution_count": 7,
   "id": "850c038f-feec-4cd1-9572-8bb7f834d533",
   "metadata": {},
   "outputs": [
    {
     "name": "stderr",
     "output_type": "stream",
     "text": [
      "huggingface/tokenizers: The current process just got forked, after parallelism has already been used. Disabling parallelism to avoid deadlocks...\n",
      "To disable this warning, you can either:\n",
      "\t- Avoid using `tokenizers` before the fork if possible\n",
      "\t- Explicitly set the environment variable TOKENIZERS_PARALLELISM=(true | false)\n"
     ]
    },
    {
     "name": "stdout",
     "output_type": "stream",
     "text": [
      "Collecting tf-keras\n",
      "  Downloading tf_keras-2.19.0-py3-none-any.whl.metadata (1.8 kB)\n",
      "Requirement already satisfied: tensorflow<2.20,>=2.19 in /Users/sivakumar/projects/ml_project/venv/lib/python3.9/site-packages (from tf-keras) (2.19.0)\n",
      "Requirement already satisfied: absl-py>=1.0.0 in /Users/sivakumar/projects/ml_project/venv/lib/python3.9/site-packages (from tensorflow<2.20,>=2.19->tf-keras) (2.2.2)\n",
      "Requirement already satisfied: astunparse>=1.6.0 in /Users/sivakumar/projects/ml_project/venv/lib/python3.9/site-packages (from tensorflow<2.20,>=2.19->tf-keras) (1.6.3)\n",
      "Requirement already satisfied: flatbuffers>=24.3.25 in /Users/sivakumar/projects/ml_project/venv/lib/python3.9/site-packages (from tensorflow<2.20,>=2.19->tf-keras) (25.2.10)\n",
      "Requirement already satisfied: gast!=0.5.0,!=0.5.1,!=0.5.2,>=0.2.1 in /Users/sivakumar/projects/ml_project/venv/lib/python3.9/site-packages (from tensorflow<2.20,>=2.19->tf-keras) (0.6.0)\n",
      "Requirement already satisfied: google-pasta>=0.1.1 in /Users/sivakumar/projects/ml_project/venv/lib/python3.9/site-packages (from tensorflow<2.20,>=2.19->tf-keras) (0.2.0)\n",
      "Requirement already satisfied: libclang>=13.0.0 in /Users/sivakumar/projects/ml_project/venv/lib/python3.9/site-packages (from tensorflow<2.20,>=2.19->tf-keras) (18.1.1)\n",
      "Requirement already satisfied: opt-einsum>=2.3.2 in /Users/sivakumar/projects/ml_project/venv/lib/python3.9/site-packages (from tensorflow<2.20,>=2.19->tf-keras) (3.4.0)\n",
      "Requirement already satisfied: packaging in /Users/sivakumar/projects/ml_project/venv/lib/python3.9/site-packages (from tensorflow<2.20,>=2.19->tf-keras) (25.0)\n",
      "Requirement already satisfied: protobuf!=4.21.0,!=4.21.1,!=4.21.2,!=4.21.3,!=4.21.4,!=4.21.5,<6.0.0dev,>=3.20.3 in /Users/sivakumar/projects/ml_project/venv/lib/python3.9/site-packages (from tensorflow<2.20,>=2.19->tf-keras) (5.29.5)\n",
      "Requirement already satisfied: requests<3,>=2.21.0 in /Users/sivakumar/projects/ml_project/venv/lib/python3.9/site-packages (from tensorflow<2.20,>=2.19->tf-keras) (2.32.3)\n",
      "Requirement already satisfied: setuptools in /Users/sivakumar/projects/ml_project/venv/lib/python3.9/site-packages (from tensorflow<2.20,>=2.19->tf-keras) (80.9.0)\n",
      "Requirement already satisfied: six>=1.12.0 in /Users/sivakumar/projects/ml_project/venv/lib/python3.9/site-packages (from tensorflow<2.20,>=2.19->tf-keras) (1.17.0)\n",
      "Requirement already satisfied: termcolor>=1.1.0 in /Users/sivakumar/projects/ml_project/venv/lib/python3.9/site-packages (from tensorflow<2.20,>=2.19->tf-keras) (3.1.0)\n",
      "Requirement already satisfied: typing-extensions>=3.6.6 in /Users/sivakumar/projects/ml_project/venv/lib/python3.9/site-packages (from tensorflow<2.20,>=2.19->tf-keras) (4.13.2)\n",
      "Requirement already satisfied: wrapt>=1.11.0 in /Users/sivakumar/projects/ml_project/venv/lib/python3.9/site-packages (from tensorflow<2.20,>=2.19->tf-keras) (1.17.2)\n",
      "Requirement already satisfied: grpcio<2.0,>=1.24.3 in /Users/sivakumar/projects/ml_project/venv/lib/python3.9/site-packages (from tensorflow<2.20,>=2.19->tf-keras) (1.74.0)\n",
      "Requirement already satisfied: tensorboard~=2.19.0 in /Users/sivakumar/projects/ml_project/venv/lib/python3.9/site-packages (from tensorflow<2.20,>=2.19->tf-keras) (2.19.0)\n",
      "Requirement already satisfied: keras>=3.5.0 in /Users/sivakumar/projects/ml_project/venv/lib/python3.9/site-packages (from tensorflow<2.20,>=2.19->tf-keras) (3.10.0)\n",
      "Requirement already satisfied: numpy<2.2.0,>=1.26.0 in /Users/sivakumar/projects/ml_project/venv/lib/python3.9/site-packages (from tensorflow<2.20,>=2.19->tf-keras) (2.0.2)\n",
      "Requirement already satisfied: h5py>=3.11.0 in /Users/sivakumar/projects/ml_project/venv/lib/python3.9/site-packages (from tensorflow<2.20,>=2.19->tf-keras) (3.13.0)\n",
      "Requirement already satisfied: ml-dtypes<1.0.0,>=0.5.1 in /Users/sivakumar/projects/ml_project/venv/lib/python3.9/site-packages (from tensorflow<2.20,>=2.19->tf-keras) (0.5.1)\n",
      "Requirement already satisfied: tensorflow-io-gcs-filesystem>=0.23.1 in /Users/sivakumar/projects/ml_project/venv/lib/python3.9/site-packages (from tensorflow<2.20,>=2.19->tf-keras) (0.37.1)\n",
      "Requirement already satisfied: charset-normalizer<4,>=2 in /Users/sivakumar/projects/ml_project/venv/lib/python3.9/site-packages (from requests<3,>=2.21.0->tensorflow<2.20,>=2.19->tf-keras) (3.4.2)\n",
      "Requirement already satisfied: idna<4,>=2.5 in /Users/sivakumar/projects/ml_project/venv/lib/python3.9/site-packages (from requests<3,>=2.21.0->tensorflow<2.20,>=2.19->tf-keras) (3.10)\n",
      "Requirement already satisfied: urllib3<3,>=1.21.1 in /Users/sivakumar/projects/ml_project/venv/lib/python3.9/site-packages (from requests<3,>=2.21.0->tensorflow<2.20,>=2.19->tf-keras) (2.4.0)\n",
      "Requirement already satisfied: certifi>=2017.4.17 in /Users/sivakumar/projects/ml_project/venv/lib/python3.9/site-packages (from requests<3,>=2.21.0->tensorflow<2.20,>=2.19->tf-keras) (2025.4.26)\n",
      "Requirement already satisfied: markdown>=2.6.8 in /Users/sivakumar/projects/ml_project/venv/lib/python3.9/site-packages (from tensorboard~=2.19.0->tensorflow<2.20,>=2.19->tf-keras) (3.8)\n",
      "Requirement already satisfied: tensorboard-data-server<0.8.0,>=0.7.0 in /Users/sivakumar/projects/ml_project/venv/lib/python3.9/site-packages (from tensorboard~=2.19.0->tensorflow<2.20,>=2.19->tf-keras) (0.7.2)\n",
      "Requirement already satisfied: werkzeug>=1.0.1 in /Users/sivakumar/projects/ml_project/venv/lib/python3.9/site-packages (from tensorboard~=2.19.0->tensorflow<2.20,>=2.19->tf-keras) (3.1.3)\n",
      "Requirement already satisfied: wheel<1.0,>=0.23.0 in /Users/sivakumar/projects/ml_project/venv/lib/python3.9/site-packages (from astunparse>=1.6.0->tensorflow<2.20,>=2.19->tf-keras) (0.45.1)\n",
      "Requirement already satisfied: rich in /Users/sivakumar/projects/ml_project/venv/lib/python3.9/site-packages (from keras>=3.5.0->tensorflow<2.20,>=2.19->tf-keras) (14.0.0)\n",
      "Requirement already satisfied: namex in /Users/sivakumar/projects/ml_project/venv/lib/python3.9/site-packages (from keras>=3.5.0->tensorflow<2.20,>=2.19->tf-keras) (0.0.9)\n",
      "Requirement already satisfied: optree in /Users/sivakumar/projects/ml_project/venv/lib/python3.9/site-packages (from keras>=3.5.0->tensorflow<2.20,>=2.19->tf-keras) (0.15.0)\n",
      "Requirement already satisfied: importlib-metadata>=4.4 in /Users/sivakumar/projects/ml_project/venv/lib/python3.9/site-packages (from markdown>=2.6.8->tensorboard~=2.19.0->tensorflow<2.20,>=2.19->tf-keras) (8.7.0)\n",
      "Requirement already satisfied: zipp>=3.20 in /Users/sivakumar/projects/ml_project/venv/lib/python3.9/site-packages (from importlib-metadata>=4.4->markdown>=2.6.8->tensorboard~=2.19.0->tensorflow<2.20,>=2.19->tf-keras) (3.21.0)\n",
      "Requirement already satisfied: MarkupSafe>=2.1.1 in /Users/sivakumar/projects/ml_project/venv/lib/python3.9/site-packages (from werkzeug>=1.0.1->tensorboard~=2.19.0->tensorflow<2.20,>=2.19->tf-keras) (3.0.2)\n",
      "Requirement already satisfied: markdown-it-py>=2.2.0 in /Users/sivakumar/projects/ml_project/venv/lib/python3.9/site-packages (from rich->keras>=3.5.0->tensorflow<2.20,>=2.19->tf-keras) (3.0.0)\n",
      "Requirement already satisfied: pygments<3.0.0,>=2.13.0 in /Users/sivakumar/projects/ml_project/venv/lib/python3.9/site-packages (from rich->keras>=3.5.0->tensorflow<2.20,>=2.19->tf-keras) (2.19.1)\n",
      "Requirement already satisfied: mdurl~=0.1 in /Users/sivakumar/projects/ml_project/venv/lib/python3.9/site-packages (from markdown-it-py>=2.2.0->rich->keras>=3.5.0->tensorflow<2.20,>=2.19->tf-keras) (0.1.2)\n",
      "Downloading tf_keras-2.19.0-py3-none-any.whl (1.7 MB)\n",
      "\u001b[2K   \u001b[90m━━━━━━━━━━━━━━━━━━━━━━━━━━━━━━━━━━━━━━━━\u001b[0m \u001b[32m1.7/1.7 MB\u001b[0m \u001b[31m24.9 MB/s\u001b[0m  \u001b[33m0:00:00\u001b[0m\n",
      "\u001b[?25hInstalling collected packages: tf-keras\n",
      "Successfully installed tf-keras-2.19.0\n"
     ]
    }
   ],
   "source": [
    "!pip install tf-keras"
   ]
  },
  {
   "cell_type": "code",
   "execution_count": 9,
   "id": "51b76f0d-710c-4378-9325-9b89fc77970b",
   "metadata": {},
   "outputs": [
    {
     "name": "stdout",
     "output_type": "stream",
     "text": [
      "{'ids': [['id3', 'id4']], 'embeddings': None, 'documents': [['I love machine learning', 'I am siva kumar']], 'uris': None, 'included': ['metadatas', 'documents', 'distances'], 'data': None, 'metadatas': [[{'source': 'note3'}, {'source': 'note4'}]], 'distances': [[1.1785166263580322, 1.6466591358184814]]}\n"
     ]
    }
   ],
   "source": [
    "import chromadb\n",
    "from sentence_transformers import SentenceTransformer\n",
    "\n",
    "# Load a Hugging Face embedding model\n",
    "embedder = SentenceTransformer(\"all-MiniLM-L6-v2\")  \n",
    "\n",
    "# Initialize persistent Chroma client (saves DB to disk)\n",
    "client = chromadb.PersistentClient(path=\"./chroma_hf_db\")\n",
    "\n",
    "# Create or get a collection\n",
    "collection = client.get_or_create_collection(name=\"my_collection\")\n",
    "\n",
    "# Documents\n",
    "docs = [\"Hello world\", \"Chroma is cool\", \"I love machine learning\", \"I am siva kumar\"]\n",
    "\n",
    "# Generate embeddings with Hugging Face\n",
    "embeddings = embedder.encode(docs).tolist()\n",
    "\n",
    "# Add documents + embeddings to Chroma\n",
    "collection.add(\n",
    "    documents=docs,\n",
    "    embeddings=embeddings,\n",
    "    metadatas=[{\"source\": \"note1\"}, {\"source\": \"note2\"}, {\"source\": \"note3\"}, {\"source\":\"note4\"}],\n",
    "    ids=[\"id1\", \"id2\", \"id3\", \"id4\"]\n",
    ")\n",
    "\n",
    "# Query with Hugging Face embedding\n",
    "query = \"what is Google AI Studio?\"\n",
    "query_embedding = embedder.encode([query]).tolist()\n",
    "\n",
    "results = collection.query(\n",
    "    query_embeddings=query_embedding,\n",
    "    n_results=2\n",
    ")\n",
    "\n",
    "print(results)\n"
   ]
  },
  {
   "cell_type": "code",
   "execution_count": 10,
   "id": "d5757ca6-f7a1-4fa3-b534-a5701fc51b76",
   "metadata": {},
   "outputs": [
    {
     "name": "stdout",
     "output_type": "stream",
     "text": [
      "[[-0.03447720780968666, 0.031023168936371803, 0.006735010538250208, 0.026108959689736366, -0.039361994713544846, -0.16030247509479523, 0.0669240653514862, -0.006441503297537565, -0.04745054617524147, 0.014758898876607418, 0.07087540626525879, 0.05552753806114197, 0.01919335126876831, -0.026251327246427536, -0.01010954100638628, -0.026940511539578438, 0.022307544946670532, -0.022226661443710327, -0.14969265460968018, -0.017493048682808876, 0.007676328532397747, 0.0543522946536541, 0.0032544564455747604, 0.031726010143756866, -0.08462133258581161, -0.029405992478132248, 0.051595594733953476, 0.04812401533126831, -0.0033147914800792933, -0.05827915668487549, 0.04196929559111595, 0.022210706025362015, 0.1281888782978058, -0.022338910028338432, -0.011656384915113449, 0.06292837858200073, -0.03287629038095474, -0.09122604876756668, -0.031175367534160614, 0.0526994988322258, 0.04703475534915924, -0.08420294523239136, -0.030056176707148552, -0.02074483595788479, 0.009517810307443142, -0.0037218742072582245, 0.007343251723796129, 0.03932426869869232, 0.09327404946088791, -0.0037886572536081076, -0.052742160856723785, -0.05805819481611252, -0.006864417344331741, 0.0052833398804068565, 0.08289293944835663, 0.01936270482838154, 0.006284472532570362, -0.01033068634569645, 0.009032389149069786, -0.03768381103873253, -0.04520608112215996, 0.02401646040380001, -0.006944134831428528, 0.013491559773683548, 0.10005486011505127, -0.0716838613152504, -0.021695055067539215, 0.03161846846342087, -0.051634643226861954, -0.08224769681692123, -0.06569328904151917, -0.009895352646708488, 0.005816430784761906, 0.07355452328920364, -0.034050267189741135, 0.024886129423975945, 0.014488130807876587, 0.02645738422870636, 0.009656733833253384, 0.030217360705137253, 0.05280398949980736, -0.07535992562770844, 0.009897248819470406, 0.029836824163794518, 0.017555566504597664, 0.023092057555913925, 0.0019338771235197783, 0.0014002396492287517, -0.047175999730825424, -0.011194289661943913, -0.1142013818025589, -0.01981191150844097, 0.04026617482304573, 0.002192874439060688, -0.07979220896959305, -0.025382351130247116, 0.0944828912615776, -0.028981154784560204, -0.145002543926239, 0.23097746074199677, 0.02773110382258892, 0.03211149200797081, 0.031064972281455994, 0.04283303767442703, 0.0642378032207489, 0.03216315433382988, -0.004876602906733751, 0.05569939315319061, -0.03753241151571274, -0.021505534648895264, -0.02834269404411316, -0.028846872970461845, 0.03835316002368927, -0.01746867224574089, 0.05248532071709633, -0.07487600296735764, -0.03125974163413048, 0.021841509267687798, -0.03989560529589653, -0.008587202057242393, 0.026956627145409584, -0.04849546030163765, 0.011469847522675991, 0.02961830608546734, -0.020572196692228317, 0.013103866018354893, 0.02883341908454895, -3.194198350138249e-33, 0.06478208303451538, -0.018130196258425713, 0.05178994685411453, 0.12198276072740555, 0.028780171647667885, 0.00872210692614317, -0.07052117586135864, -0.01690731756389141, 0.04073973745107651, 0.04211611673235893, 0.025447223335504532, 0.035746268928050995, -0.0491446927189827, 0.002129137748852372, -0.01554654911160469, 0.050730593502521515, -0.04818519949913025, 0.035880669951438904, -0.004067075438797474, 0.10172474384307861, -0.055970072746276855, -0.010680977255105972, 0.011235791258513927, 0.09068654477596283, 0.004234518390148878, 0.03513871505856514, -0.009702793322503567, -0.09386523067951202, 0.09285543113946915, 0.008004960604012012, -0.007705465890467167, -0.052086737006902695, -0.012587837874889374, 0.0032669042702764273, 0.0060135736130177975, 0.007581578101962805, 0.010517194867134094, -0.08634548634290695, -0.06987875699996948, -0.0025338567793369293, -0.09097657352685928, 0.0468873605132103, 0.052076444029808044, 0.007193884812295437, 0.010903610847890377, -0.005229525733739138, 0.013937410898506641, 0.021968280896544456, 0.03420863300561905, 0.060224659740924835, 0.00011665926285786554, 0.0147319994866848, -0.07008908689022064, 0.028499066829681396, -0.027601687237620354, 0.010768450796604156, 0.034830957651138306, -0.022487878799438477, 0.009769023396074772, 0.0772278681397438, 0.021588321775197983, 0.11495620012283325, -0.06800112128257751, 0.023761047050356865, -0.015983933582901955, -0.017827043309807777, 0.06439492851495743, 0.032025787979364395, 0.05027029290795326, -0.005913779605180025, -0.033708058297634125, 0.01784026063978672, 0.016573354601860046, 0.06329650431871414, 0.03467709198594093, 0.046473439782857895, 0.09790613502264023, -0.006635431200265884, 0.02520701102912426, -0.07798841595649719, 0.01692642830312252, -0.0009458631393499672, 0.02247193455696106, -0.03825327754020691, 0.0957048162817955, -0.005350714083760977, 0.010468999855220318, -0.11524052172899246, -0.013262458145618439, -0.010709457099437714, -0.08311718702316284, 0.07327357679605484, 0.049392219632864, -0.008994439616799355, -0.09584558010101318, 3.366148194408595e-33, 0.12493180483579636, 0.019349711015820503, -0.05822569131851196, -0.035988207906484604, -0.05074680224061012, -0.04566233232617378, -0.08260347694158554, 0.14819476008415222, -0.08842112123966217, 0.06027446687221527, 0.05103031173348427, 0.010303143411874771, 0.14121422171592712, 0.03081386163830757, 0.06103295460343361, -0.052851252257823944, 0.13664889335632324, 0.00918987300246954, -0.01732529327273369, -0.012848650105297565, -0.007995340041816235, -0.05098005384206772, -0.05235059931874275, 0.007593035697937012, -0.015166273340582848, 0.016960302367806435, 0.021270524710416794, 0.0205580685287714, -0.12002813071012497, 0.01446177065372467, 0.026759866625070572, 0.025330675765872, -0.04275469109416008, 0.006768465973436832, -0.014458537101745605, 0.045261964201927185, -0.09147663414478302, -0.019439121708273888, -0.017833489924669266, -0.05491003766655922, -0.052641045302152634, -0.010459071025252342, -0.0520159974694252, 0.020892133936285973, -0.07997031509876251, -0.012111241929233074, -0.0577315017580986, 0.023178216069936752, -0.00803164578974247, -0.025989266112446785, -0.07995663583278656, -0.020728854462504387, 0.048817720264196396, -0.020389091223478317, -0.0491766482591629, 0.014159628190100193, -0.06362208724021912, -0.007807400077581406, 0.016431540250778198, -0.02568254992365837, 0.01338107418268919, 0.026248715817928314, 0.00997835397720337, 0.06322891265153885, 0.002672072732821107, -0.006582720670849085, 0.01663200743496418, 0.03236642852425575, 0.037942372262477875, -0.036376092582941055, -0.0069110156036913395, 0.00015965118655003607, -0.0016336421249434352, -0.02727813832461834, -0.028038086369633675, 0.04968153312802315, -0.028867207467556, -0.0024180710315704346, 0.014774910174310207, 0.00976461824029684, 0.005797593388706446, 0.013486256822943687, 0.005567827727645636, 0.03722700476646423, 0.007232544012367725, 0.04015622287988663, 0.08150321245193481, 0.07199163734912872, -0.013056203722953796, -0.04288206249475479, -0.011011223308742046, 0.004897687118500471, -0.009229687042534351, 0.03519147261977196, -0.05103503167629242, -1.571437735492509e-08, -0.0886245146393776, 0.023909302428364754, -0.016238577663898468, 0.03170045465230942, 0.027284197509288788, 0.05246882885694504, -0.04707091674208641, -0.058847423642873764, -0.06320822983980179, 0.04088853299617767, 0.0498279370367527, 0.10655166953802109, -0.07450229674577713, -0.012495489791035652, 0.018370620906352997, 0.03947403281927109, -0.02479797601699829, 0.014516297727823257, -0.03706920146942139, 0.020015684887766838, -4.85438977193553e-05, 0.0098665039986372, 0.024838807061314583, -0.05245805159211159, 0.0293140672147274, -0.08719200640916824, -0.014499818906188011, 0.026019055396318436, -0.0187463890761137, -0.07620507478713989, 0.035043295472860336, 0.10363943874835968, -0.028050478547811508, 0.012718282639980316, -0.07632549107074738, -0.018652400001883507, 0.0249767042696476, 0.0814453586935997, 0.06875893473625183, -0.06405651569366455, -0.08389395475387573, 0.061362411826848984, -0.03354557231068611, -0.1061534583568573, -0.04008056968450546, 0.03253016620874405, 0.07662481814622879, -0.07301617413759232, 0.0003376138338353485, -0.040871575474739075, -0.07578850537538528, 0.02752765826880932, 0.07462546229362488, 0.01771732233464718, 0.09121832996606827, 0.11022016406059265, 0.0005697978776879609, 0.05146327242255211, -0.014551369473338127, 0.033231981098651886, 0.023792222142219543, -0.02288970910012722, 0.0389375276863575, 0.030206797644495964], [-0.11315750330686569, -0.0051168883219361305, -0.013897694647312164, -0.025092974305152893, -0.04774470999836922, 0.021617110818624496, 0.05613899230957031, 0.07757137715816498, -0.016466762870550156, -0.002542484551668167, -0.011595649644732475, -0.05837015062570572, -0.026316087692975998, -0.020304670557379723, -0.013171922415494919, 0.07428616285324097, 0.0927111953496933, -0.02276860736310482, 0.027506748214364052, -0.06699652224779129, -0.0957258939743042, -0.11206938326358795, -0.013073158450424671, 0.01191885769367218, -0.04123074188828468, 0.06058041378855705, -0.10733949393033981, 0.0383756123483181, 0.07907837629318237, -0.05286337807774544, -0.054201722145080566, 0.13211198151111603, 0.03510977700352669, -0.03029465116560459, 0.0013264196459203959, 0.009964138269424438, 0.026958802714943886, -0.0988180860877037, -0.07221148163080215, 0.06650125980377197, -0.015510473400354385, 0.10005001723766327, -0.04901547729969025, 0.021131573244929314, -0.003602229757234454, -0.09447910636663437, 0.012763469479978085, 0.0243214201182127, 0.04669742286205292, 0.0230373777449131, -0.03760119900107384, -0.052557747811079025, -0.005756985861808062, 0.01809215545654297, -0.09119150787591934, 0.11501634120941162, -0.07795917242765427, -0.037129711359739304, 0.1528611183166504, 0.027566613629460335, -0.012771033681929111, 0.02548784390091896, 0.010448246262967587, 0.03109864518046379, 0.09226405620574951, -0.035929977893829346, 0.015358169563114643, 0.01357953529804945, 0.09198558330535889, 0.0012372907949611545, 0.0022962219081819057, 0.04175495356321335, -0.0012251866282895207, 0.03783257305622101, 0.018027663230895996, 0.019007472321391106, 0.051748163998126984, -0.10378042608499527, -0.09308246523141861, 0.022269032895565033, 0.01991589367389679, -0.04509546980261803, -0.009227112866938114, 0.008844424039125443, 0.047030337154865265, -0.02588541992008686, -0.012329951860010624, -0.05296511575579643, -0.01679185964167118, 0.016341861337423325, 0.021953536197543144, 0.11949078738689423, 0.04707334190607071, -0.04431841894984245, -0.03275793790817261, 0.02127348817884922, 0.07931803911924362, -0.021649660542607307, -0.018085068091750145, 0.0722491592168808, 0.02532513067126274, -0.053209491074085236, -0.07064332813024521, -0.11318111419677734, 0.0437251552939415, -0.031091472133994102, 0.03149903193116188, 0.05572337657213211, 0.0016134652541950345, 0.016301587224006653, -0.04359680786728859, 0.002197257475927472, -0.06950154900550842, -0.036956463009119034, -0.012282351031899452, 0.024035166949033737, 0.024300511926412582, 0.03811103105545044, 0.04451536759734154, 0.08667662739753723, 0.01531189028173685, -0.04828130453824997, -0.03381732851266861, 0.013138946145772934, -0.02427438087761402, -0.08189976960420609, 0.003783333580940962, -1.6052310245829224e-33, 0.024688012897968292, 0.05298987030982971, -0.02204015664756298, -0.04676028713583946, 0.07473178952932358, -0.029956791549921036, -0.018093282356858253, 0.01934739574790001, -0.09899742901325226, 0.007259237114340067, 0.09402669221162796, 0.08765839785337448, -0.07174303382635117, 0.009783761575818062, 0.01257412601262331, -0.004148263484239578, -0.062202103435993195, 0.017022505402565002, 0.013614227995276451, -0.006088709458708763, -0.08850476145744324, 0.0623074434697628, 0.05920058488845825, 0.006699849851429462, -0.05782514065504074, 0.04466055706143379, 0.041664332151412964, 0.06828556209802628, 0.04003119096159935, 0.04826093465089798, -0.008213934488594532, -0.03230604901909828, 0.044735271483659744, -0.025466326624155045, -0.028686420992016792, 0.00361567921936512, -0.10023333132266998, -0.09782198071479797, -0.09134180098772049, 0.10380002856254578, 0.003270435146987438, -0.007907886058092117, -0.028146807104349136, 0.008325479924678802, -0.012484778650105, -0.04245612025260925, -0.03197936341166496, -0.04346088692545891, -0.026954861357808113, -0.034097496420145035, -0.0603964626789093, 0.0378769226372242, -0.03409881144762039, 0.04958370700478554, -0.024837331846356392, -0.03506661206483841, 0.047978006303310394, 0.007165160495787859, 0.02045968919992447, -0.01736675575375557, -0.05166429653763771, 0.006472303066402674, -0.013711739331483841, -0.030851377174258232, -0.03676602244377136, -0.04463330656290054, -0.06333070248365402, 0.01776987500488758, -0.02963140793144703, -0.10118729621171951, 0.008844578638672829, -0.02620827406644821, 0.0749703049659729, 0.01645871065557003, 0.06490886956453323, -0.05379023030400276, 0.010020121932029724, 0.004547836259007454, -0.08200441300868988, 0.025528322905302048, -0.029607921838760376, -0.013502259738743305, 0.016229476779699326, -0.06461605429649353, -0.06217759847640991, -0.04555315524339676, 0.03012295812368393, -0.005392045713961124, 0.02555600367486477, -0.049005135893821716, -0.04712611064314842, -0.09806279093027115, 0.1304425597190857, 0.02599305473268032, -0.03650802746415138, 1.2637134569770732e-33, -0.07772167026996613, -0.0020888233557343483, 0.021272066980600357, 0.014049040153622627, 0.015488473698496819, -0.012394053861498833, -0.010214164853096008, 0.05524641275405884, 0.006237455643713474, 0.059545159339904785, 0.10193823277950287, 0.0003185558598488569, -0.048748381435871124, -0.003214914118871093, 0.09854907542467117, 0.0599927082657814, 0.1277746707201004, 0.016659867018461227, -0.06289339810609818, 0.004836381413042545, -0.05960209667682648, -0.005381119437515736, 0.01284854020923376, 0.15403501689434052, 0.0216421727091074, 0.04289279505610466, -0.09033379703760147, -0.09526896476745605, 0.041652269661426544, 0.05254201591014862, -0.024333573877811432, 0.005262178834527731, -0.06046069785952568, 0.04847106710076332, 7.69972539274022e-05, -0.05233598127961159, -0.018139880150556564, -0.0020811099093407393, 0.03483504801988602, 0.042356543242931366, 0.03565503656864166, -0.023769132792949677, 0.0331350602209568, 0.0692167803645134, -0.04331349581480026, 0.07569900900125504, 0.039288539439439774, 0.035120099782943726, -0.0005805593682453036, 0.10483923554420471, -0.017835313454270363, 0.0060086860321462154, 0.0007477998151443899, -0.04193064942955971, 0.061230603605508804, -0.005894115660339594, -0.024941392242908478, 0.039818596094846725, 0.03994586318731308, -0.027324823662638664, 0.06273899972438812, -0.05503523349761963, -0.0774407684803009, 0.0099486093968153, 0.04713279753923416, 0.03373320773243904, -0.04687260836362839, -0.003905276535078883, -0.0753307193517685, 0.029018109664320946, 0.025275250896811485, 0.08302942663431168, -0.09993316233158112, -0.0028554117307066917, -0.04917144402861595, -0.03963186964392662, 0.0426064133644104, -0.02838113345205784, -0.028016472235322, -0.061718184500932693, -0.053153932094573975, 0.04643133282661438, 0.007060191128402948, -0.013362294994294643, 0.08585277944803238, 0.025699159130454063, 0.014232405461370945, -0.0360289104282856, -0.00819151196628809, 0.05930875614285469, -0.005694243591278791, 0.013695911504328251, -0.01674593985080719, 0.04361938312649727, 0.06935717910528183, -1.417458417307671e-08, 0.060063283890485764, -0.06679462641477585, -0.02322658710181713, 0.027392392978072166, 0.049785297363996506, -0.0445539765059948, -0.08852212131023407, -0.04629654809832573, 0.013349492102861404, 0.04973394423723221, 0.06705702841281891, 0.01658789813518524, 0.03033684566617012, 0.09943743795156479, 0.012935559265315533, 0.09209389239549637, 0.039114244282245636, -0.021559352055191994, 0.02062182128429413, -0.013722036965191364, -0.04571632668375969, 0.03796187788248062, 0.08897023648023605, 0.01424957811832428, -0.048155173659324646, 0.03968088701367378, 0.009576705284416676, 0.05326307192444801, 0.027782144024968147, 0.029037754982709885, -0.010839538648724556, 0.0027242624200880527, -0.03382590413093567, 0.016737308353185654, 0.054806675761938095, 0.0032397157046943903, 0.06908498704433441, -0.02949414774775505, -0.10922007262706757, -0.05454053729772568, 0.05653071030974388, 0.032650090754032135, -0.07349544763565063, 0.034073300659656525, -0.059267349541187286, -0.0863320380449295, 0.06964718550443649, -0.03338828310370445, -0.01874881237745285, 0.011605006642639637, 0.011008979752659798, -0.09782042354345322, -0.019710658118128777, 0.0033765360713005066, 0.06998961418867111, -0.029784047976136208, -0.0004305336333345622, -0.0007328485371544957, -0.020169580355286598, -0.005383648443967104, 0.014264553785324097, 0.01199847087264061, 0.04569743573665619, -0.028216160833835602], [-0.04363630339503288, -0.0590544193983078, 0.08201237767934799, -0.010767154395580292, 0.06119582802057266, -0.05515970662236214, -0.002904390450567007, -0.036723196506500244, 0.02139713615179062, -0.0075603509321808815, -0.071757011115551, 0.05082375928759575, 0.03803306445479393, -0.016250308603048325, -0.03216982260346413, 0.015275197103619576, -0.04679379612207413, 0.017129311338067055, -0.12017449736595154, -0.12222922593355179, -0.08087372779846191, 0.017052868381142616, -0.020872468128800392, 0.00568293547257781, 0.0016014002030715346, 0.026267314329743385, 0.029952306300401688, -0.002757118083536625, 0.007171100936830044, -0.06127537786960602, -0.0036145031917840242, 0.024850700050592422, 0.025638652965426445, 0.04123904928565025, -0.10209878534078598, 0.008368992246687412, 0.013994432985782623, 0.030988184735178947, 0.02431204356253147, 0.030807677656412125, -0.04405666142702103, -0.013897893950343132, 0.013094807043671608, 0.003649457823485136, 0.07497580349445343, 0.08549094945192337, -0.058143407106399536, -0.07580694556236267, 0.039683301001787186, 0.050620634108781815, -0.08653245121240616, -0.032327957451343536, -0.02036641724407673, -0.016243359073996544, -0.058762285858392715, 0.021043792366981506, 0.06547096371650696, -0.012528656050562859, 0.03352846950292587, -0.027636298909783363, 0.029194505885243416, -0.06910475343465805, -0.08455807715654373, 0.014751425944268703, 0.10690532624721527, 0.013836629688739777, 0.018792008981108665, 0.03780236467719078, -0.034059152007102966, -0.016132963821291924, -0.05106010288000107, 0.1285589337348938, 0.018473858013749123, 0.0958576649427414, 0.06714703142642975, 0.04978714883327484, 0.017166418954730034, 0.0424596332013607, 0.08099964261054993, 0.014484535902738571, 0.021549737080931664, -0.052085038274526596, -0.0015756721841171384, 0.0495900958776474, 0.04626302421092987, -0.10063991695642471, -0.04669354483485222, 0.03157753869891167, -0.052321918308734894, -0.02394609898328781, -0.030843207612633705, -0.020145507529377937, -0.007490538526326418, -0.06502598524093628, -0.064167819917202, 0.014547420665621758, -0.017527060583233833, -0.10335703939199448, -0.027922749519348145, 0.1288505494594574, -0.10247952491044998, -0.01739407517015934, 0.02669603005051613, 0.032745733857154846, 0.012144050560891628, 0.004292937461286783, 0.0051092226058244705, -0.005831526592373848, 0.13671745359897614, -0.10806947946548462, -0.037989918142557144, 0.03498423472046852, 0.019349949434399605, -0.04392566531896591, 0.01122313179075718, 0.014193358831107616, 0.02810642309486866, 0.0018101909663528204, 0.04441288858652115, 0.04021045193076134, -0.06296873092651367, 0.024246010929346085, -0.040823668241500854, 0.04972293600440025, 0.009789361618459225, -0.10592632740736008, -0.05885593220591545, -3.36252510041417e-33, -0.0442095510661602, -0.07628682255744934, 0.07333547621965408, 0.003222849452868104, 0.061129286885261536, -0.09836319833993912, -0.01577163115143776, -0.05572560057044029, -0.03300375118851662, -0.001218771212734282, -0.07086057215929031, 0.07121863961219788, -0.03316240757703781, 0.04164624586701393, 0.04841748997569084, -0.021435918286442757, 0.01905587501823902, 0.06970886886119843, -0.045971475541591644, -0.04371855407953262, -0.007021979428827763, -0.03279101103544235, 0.052598737180233, 0.041930485516786575, -0.03655796870589256, 0.020060908049345016, 0.02733057364821434, -0.031412698328495026, 0.037386149168014526, 0.06191325560212135, -0.013170200400054455, 0.006185324862599373, -0.06791532784700394, -0.0037760494742542505, 0.0057032424956560135, -0.0332082062959671, -0.011218149214982986, -0.003886154619976878, 0.04292992129921913, 0.024460360407829285, -0.009297611191868782, -0.022950977087020874, 0.057916756719350815, 0.0015229119453579187, 0.02331831492483616, 0.03908323124051094, 0.030270734801888466, -0.028329186141490936, 0.053608331829309464, -0.06185813248157501, -0.039893895387649536, -0.007450557313859463, 0.0037790846545249224, 0.015166431665420532, 0.020318210124969482, 0.04930510371923447, 0.03870527818799019, -0.01669354923069477, -0.014936755411326885, -0.014979543164372444, 0.005130507983267307, 0.07479096204042435, 0.014707342721521854, 0.0566137433052063, -0.027967419475317, 0.029116472229361534, 0.03740477189421654, 0.03469191491603851, 0.021215049549937248, 0.02302173525094986, -0.050508178770542145, 0.010989338159561157, 0.02574143558740616, -0.0484292134642601, 0.002959683071821928, -0.044912468641996384, 0.058240555226802826, -0.03968487307429314, -0.046426840126514435, -0.011299561709165573, -0.03607083857059479, -0.053952813148498535, 0.029466727748513222, -0.09103310108184814, 0.06374263018369675, -0.020090866833925247, -0.006548462435603142, -0.09454395622015, -0.04111127182841301, 0.005031978711485863, -0.06442901492118835, -0.02044055238366127, 0.07127661257982254, 0.032324135303497314, -0.11124177277088165, 3.0077836805390507e-33, -0.08310625702142715, 0.014575416222214699, 0.009764829650521278, 0.12373021245002747, -0.02558264695107937, -0.0018251221626996994, -0.06987393647432327, 0.029797101393342018, -0.006989313289523125, 0.09523618221282959, 0.02123243734240532, 0.002560968277975917, 0.028522079810500145, 0.018896352499723434, -0.025449976325035095, 0.04722357913851738, -0.019117552787065506, 0.009856547228991985, -0.047572363168001175, 0.00626695342361927, -0.005477366968989372, 0.08131275326013565, -0.03781285509467125, 0.0021232226863503456, 0.0015796193620190024, 0.013263402506709099, -0.04523418843746185, 0.019642621278762817, 0.013548735529184341, 0.04249940440058708, -0.016197236254811287, -0.002218240639194846, -0.06476965546607971, -0.04520200565457344, -0.05005989968776703, 0.008150478824973106, -0.016396701335906982, -0.0329572819173336, -0.010569839738309383, 0.05099291726946831, 0.0401671901345253, 0.046853501349687576, -0.02091999724507332, -0.014639228582382202, -0.00870973989367485, -0.03814167156815529, -0.01371279638260603, -0.00721593014895916, 0.05108259990811348, -0.026618899777531624, -0.03742283955216408, 0.04868999868631363, -0.008054506033658981, -0.13868579268455505, -0.02725169062614441, -0.011172921396791935, 0.021922998130321503, 0.018894487991929054, 0.012511505745351315, 0.02210695669054985, -0.17488440871238708, -0.04704254865646362, 0.012250849977135658, 0.05964469909667969, 0.04264676570892334, -0.051922980695962906, 0.02240973711013794, -0.007790425792336464, -0.05506998300552368, -0.05600844323635101, 0.02559799887239933, 0.053310614079236984, -0.04804603010416031, 0.054944656789302826, -0.046947333961725235, -0.07960975170135498, -0.023835429921746254, 0.0014182155719026923, -0.07280734181404114, -0.020700553432106972, 0.0708911344408989, -0.06408891826868057, 0.03601452335715294, 0.14716997742652893, 0.010776599869132042, 0.12065677344799042, 0.06520731002092361, -0.037974387407302856, -0.03388379141688347, -0.010810508392751217, -0.01743859238922596, 0.047514576464891434, -0.02898251824080944, -0.0056670731864869595, -0.01884946972131729, -1.4146983140506109e-08, -0.023387517780065536, -0.024042537435889244, 0.12483330070972443, -0.06793078035116196, 0.07252565026283264, 0.03294353932142258, -0.03308924660086632, 0.07495016604661942, -0.07574989646673203, 0.0003785336739383638, 0.0645299032330513, 0.04730493947863579, -0.018994109705090523, 0.056424036622047424, 0.05429273471236229, -0.00012546034122351557, 0.061300743371248245, 0.009089085273444653, -0.017396971583366394, 0.06746406108140945, 0.013684256933629513, 0.06830310076475143, 0.04336392879486084, 0.035768866539001465, 0.0480518713593483, -0.046191390603780746, -0.015820274129509926, 0.05001363158226013, 0.035831961780786514, 0.03981544449925423, -0.047355905175209045, 0.09065316617488861, 0.01853218674659729, 0.002905528759583831, 0.09935953468084335, 0.11982645094394684, 0.008985121734440327, -0.060126010328531265, -0.009928896091878414, -0.034073978662490845, -0.03453008085489273, 0.09044498205184937, -0.06595838814973831, -0.038708508014678955, -0.02764195203781128, 0.03584050014615059, 0.10538166761398315, -0.10214957594871521, 0.028291072696447372, 0.030542444437742233, 0.07925780862569809, 0.02562778815627098, 0.08271050453186035, 0.10014832019805908, 0.08862379193305969, 0.053510621190071106, 0.002196837682276964, -0.054593879729509354, 0.04833770915865898, 0.1003228947520256, 0.06195569783449173, 0.09771011769771576, 0.01688089594244957, -0.09040588140487671], [0.0540502704679966, 0.008183193393051624, -0.016663147136569023, -0.015656625851988792, 0.010515815578401089, -0.010457475669682026, 0.11679164320230484, 0.01200870517641306, 0.017997855320572853, -0.011084791272878647, 0.019529420882463455, -0.13673155009746552, 0.014121701940894127, -0.053265530616045, 0.056564413011074066, -0.04771219566464424, 0.010581152513623238, 0.013265208341181278, 0.04408647119998932, -0.04621310159564018, -0.05513840913772583, 0.02997766248881817, -0.08313681185245514, -0.08429118245840073, -0.034341782331466675, -0.009498844854533672, 0.032979682087898254, -0.061659783124923706, 0.027826253324747086, -0.020504113286733627, -0.021188875660300255, 0.08920468389987946, 0.023047806695103645, -0.013069329783320427, -0.022164078429341316, 0.07224598526954651, -0.09979311376810074, 0.06984558701515198, -0.002644844353199005, -0.005214843899011612, -0.012819746509194374, -0.09884493798017502, 0.012840121053159237, -0.05806932970881462, 0.07546307146549225, -0.04984860122203827, -0.018083184957504272, -0.008147548884153366, 0.00952306017279625, 0.0005623671459034085, -0.10988039523363113, 0.0662025660276413, 0.030438199639320374, 0.06301340460777283, 0.04091393202543259, -0.11106862127780914, -0.01602044515311718, 0.03503120690584183, 0.050784703344106674, 0.052456747740507126, 0.016194812953472137, 0.03494115546345711, -0.0054910448379814625, -0.013592475093901157, 0.07000439614057541, 0.011500519700348377, 0.020977787673473358, -0.023971352726221085, -0.024014977738261223, -0.02178201638162136, 0.026162203401327133, 0.03902079537510872, -0.042782142758369446, 0.04389684647321701, -0.014821195974946022, -0.050390660762786865, 0.03693890944123268, 0.029631029814481735, 0.05726254731416702, 0.07203604280948639, -0.03785528242588043, -0.009606976062059402, -0.007642131764441729, -0.01208244264125824, -0.05049682408571243, 0.05394145846366882, -0.02319907769560814, -0.006545849144458771, -0.045965831726789474, -0.04470396041870117, 0.03777850791811943, 0.0574457086622715, -0.0046719834208488464, -0.016779761761426926, 0.03461470827460289, -0.07467327266931534, -0.0785122811794281, -0.030946586281061172, -0.0031840347219258547, 0.07528258860111237, -0.048755183815956116, 0.05035422369837761, -0.057394735515117645, 0.07984564453363419, -0.08559981733560562, 0.05074606090784073, 0.006135204341262579, 0.0003642690135166049, 0.03418905660510063, 0.014305601827800274, -0.04475804790854454, 0.009113320149481297, -0.0347619466483593, 0.00017625953478273004, 0.061387352645397186, 0.01879430189728737, 0.10367409139871597, 0.049034055322408676, -0.0036706519313156605, -0.03148714080452919, -0.015936238691210747, 0.04314075782895088, -0.10370702296495438, -0.04321962222456932, -0.014331975020468235, -0.08764499425888062, 0.036683548241853714, -3.570254053987669e-33, -0.04262877628207207, -0.003922282252460718, 0.06595996022224426, -0.0020123396534472704, -0.019092073664069176, -0.03246646001935005, -0.013735932298004627, -0.04937020689249039, -0.04012090340256691, -0.047892577946186066, -0.018439222127199173, -0.06655541807413101, -0.05887707695364952, -0.02580939047038555, 0.0465359166264534, 0.09780256450176239, 0.07385304570198059, -0.0579930804669857, 0.04207390174269676, -0.008698720484972, -0.013829807750880718, 0.012298260815441608, 0.02307918295264244, 0.008531641215085983, 0.01007295772433281, 0.03207692131400108, 0.12110350281000137, -0.041322238743305206, 0.008288185112178326, 0.02393036149442196, 0.026554923504590988, 0.017884574830532074, -0.01850750856101513, 0.002020971616730094, -0.002062311163172126, -0.0994550883769989, 0.022530244663357735, 7.939365605125204e-05, -0.027433855459094048, -0.0005475509096868336, 0.007904277183115482, 0.016410965472459793, 0.05183323472738266, -0.03556155785918236, -0.0542297288775444, 0.0570962019264698, 0.10738705098628998, 0.018491355702280998, 0.013775283470749855, 0.003995741251856089, -0.08578628301620483, 0.01313660480082035, -0.09345162659883499, -0.04681640863418579, 0.005655041430145502, -0.013475843705236912, 0.03162478283047676, -0.02627583220601082, -0.031010359525680542, 0.04906551539897919, -0.06091227009892464, -0.05969097837805748, -0.10034794360399246, 0.0993521437048912, -0.10617661476135254, -0.05930072441697121, 0.05166604369878769, -0.023126885294914246, 0.09151800721883774, -0.05513085424900055, -0.07791434973478317, 0.020260831341147423, -0.016057152301073074, 0.010376223362982273, -0.08261487632989883, 0.018828270956873894, 0.016166631132364273, 0.006212934385985136, 0.014609178528189659, 0.04712632670998573, -0.03075794130563736, 0.08260190486907959, 0.016597475856542587, -0.03030506893992424, 0.09338214993476868, -0.00366806797683239, -0.05710022523999214, -0.03867271542549133, 0.030911535024642944, 0.01961086317896843, -0.0412023551762104, -0.009100562892854214, 0.10252156853675842, 0.052529964596033096, -0.10928685963153839, 7.432751340117617e-34, -0.0020817399490624666, -0.011990862898528576, -0.007035563699901104, 0.0029026861302554607, 0.0812382847070694, 0.05987511947751045, 0.06488808989524841, 0.045786693692207336, -0.05852559953927994, 0.016243593767285347, -0.057968784123659134, 0.03154339641332626, 0.032343070954084396, 0.024086154997348785, 0.033762868493795395, 0.04097495973110199, 0.0627683699131012, 0.03273169696331024, -0.09546732902526855, -0.03614228963851929, -0.0397661067545414, 0.1219232976436615, -0.0031510565895587206, -0.02590070478618145, -0.008884351700544357, -0.0011058817617595196, 0.05832018330693245, 0.06192896515130997, -0.11946465075016022, 0.041232235729694366, 0.038423292338848114, -0.1497589647769928, -0.1376694142818451, 0.0025969992857426405, 0.0070907617919147015, -0.03344213217496872, 0.09166468679904938, -0.050994131714105606, 0.026950087398290634, 0.013564959168434143, -0.05108216404914856, 0.069525808095932, 0.015099766664206982, -0.0058614956215023994, -0.019664369523525238, -0.08275596797466278, 0.04851563647389412, -0.002110020723193884, -0.04438567906618118, 0.0011893660994246602, 0.003976963926106691, -0.03429984301328659, 0.02330920472741127, -0.028196290135383606, 0.0270577073097229, 0.03368692845106125, 0.036775607615709305, 0.026384901255369186, -0.015540072694420815, -0.014930928125977516, -0.03138064965605736, -0.0014545164303854108, 0.033398550003767014, 0.005625342018902302, 0.030247751623392105, 0.01341665256768465, 0.06398820877075195, 0.04276333749294281, 0.004803746938705444, -0.07296617329120636, 0.05204924941062927, -0.021241767331957817, -0.06637567281723022, 0.04713993892073631, -0.07633110880851746, -0.07435502856969833, -0.07892352342605591, 0.0558205172419548, 0.05129745230078697, 0.01673056371510029, 0.005098616238683462, 0.010925687849521637, -0.033408790826797485, -0.0066560241393744946, -0.021423690021038055, 0.07575700432062149, 0.09829459339380264, 0.022662699222564697, 0.12567149102687836, -0.07083458453416824, -0.019028401002287865, 0.04613826796412468, -0.058260705322027206, -0.055769458413124084, -0.012364286929368973, -1.631953949754461e-08, -0.016776971518993378, -0.07881194353103638, -0.02881479822099209, -0.027779998257756233, -0.0029156990349292755, -0.0241197869181633, -0.018436739221215248, -0.021841488778591156, 0.0013147650752216578, 0.011592010036110878, 0.027815544977784157, 0.02362619712948799, 0.016101086512207985, -0.04032231867313385, 0.11885428428649902, -0.0552510991692543, 0.07172876596450806, 0.037613511085510254, -0.023844270035624504, -0.06637557595968246, 0.08025895059108734, 0.02132294699549675, 0.005716726183891296, -0.030707312747836113, -0.015496577136218548, 0.007840165868401527, -0.010556698776781559, -0.0521196611225605, -0.005937553010880947, 0.14459294080734253, -0.05742180719971657, 0.08584190160036087, -0.05334816128015518, -0.1032693013548851, -0.029539985582232475, -0.0006267534336075187, 0.08757831156253815, -0.0188527163118124, 0.09837238490581512, 0.0137830451130867, 0.027620479464530945, 0.06471239775419235, 0.026368942111730576, 0.08784013241529465, -0.05582133308053017, 0.03481903672218323, 0.01786038652062416, -0.06491528451442719, -0.009705969132483006, -0.05865111202001572, -0.057573333382606506, -0.017335576936602592, 0.01589031331241131, 0.08321452140808105, 0.005102870520204306, -0.011106979101896286, -0.05057753250002861, 0.0023271928075701, -0.005667050834745169, -0.008253093808889389, 0.15412192046642303, 0.00136358302552253, -0.04540945217013359, -0.05252968519926071]]\n"
     ]
    }
   ],
   "source": [
    "print(embeddings)"
   ]
  },
  {
   "cell_type": "code",
   "execution_count": null,
   "id": "3692507f-3d81-4e9b-8993-01267dc28c90",
   "metadata": {},
   "outputs": [],
   "source": []
  }
 ],
 "metadata": {
  "kernelspec": {
   "display_name": "Python (ml_project)",
   "language": "python",
   "name": "ml_project_env"
  },
  "language_info": {
   "codemirror_mode": {
    "name": "ipython",
    "version": 3
   },
   "file_extension": ".py",
   "mimetype": "text/x-python",
   "name": "python",
   "nbconvert_exporter": "python",
   "pygments_lexer": "ipython3",
   "version": "3.9.6"
  },
  "widgets": {
   "application/vnd.jupyter.widget-state+json": {
    "state": {
     "06217b3d368945d497e68a440c857222": {
      "model_module": "@jupyter-widgets/base",
      "model_module_version": "2.0.0",
      "model_name": "LayoutModel",
      "state": {}
     },
     "0ba26f18678643559f9788c885226e63": {
      "model_module": "@jupyter-widgets/controls",
      "model_module_version": "2.0.0",
      "model_name": "ProgressStyleModel",
      "state": {
       "description_width": ""
      }
     },
     "0d5298589108479f894b1f25ad6cdd1e": {
      "model_module": "@jupyter-widgets/controls",
      "model_module_version": "2.0.0",
      "model_name": "HTMLModel",
      "state": {
       "layout": "IPY_MODEL_fd17f75df7dc4f19b83530df3fcc1e7c",
       "style": "IPY_MODEL_6f8e461a1246416faa4ba0ad1859dc11",
       "value": " 112/112 [00:00&lt;00:00, 4.10kB/s]"
      }
     },
     "0f17000280394e7ca92c1b226da199e9": {
      "model_module": "@jupyter-widgets/controls",
      "model_module_version": "2.0.0",
      "model_name": "ProgressStyleModel",
      "state": {
       "description_width": ""
      }
     },
     "0fb6403533304cddb301fc99fb2c6140": {
      "model_module": "@jupyter-widgets/controls",
      "model_module_version": "2.0.0",
      "model_name": "ProgressStyleModel",
      "state": {
       "description_width": ""
      }
     },
     "1067649ca9bd4148b200b27f3b106168": {
      "model_module": "@jupyter-widgets/controls",
      "model_module_version": "2.0.0",
      "model_name": "HTMLModel",
      "state": {
       "layout": "IPY_MODEL_b23080c554c14d4289eec5c696bb094e",
       "style": "IPY_MODEL_cf53ec1da4e74b3f8168409704d9c4d7",
       "value": " 349/349 [00:00&lt;00:00, 14.7kB/s]"
      }
     },
     "107068c581cc46239e0fb156316b6bea": {
      "model_module": "@jupyter-widgets/base",
      "model_module_version": "2.0.0",
      "model_name": "LayoutModel",
      "state": {}
     },
     "107e7320fba44c109e14741f81968e7a": {
      "model_module": "@jupyter-widgets/base",
      "model_module_version": "2.0.0",
      "model_name": "LayoutModel",
      "state": {}
     },
     "1629968acdc0412c9eab126a2315ab40": {
      "model_module": "@jupyter-widgets/base",
      "model_module_version": "2.0.0",
      "model_name": "LayoutModel",
      "state": {}
     },
     "16f0a382d7a9493a8c41d0ec275c95e3": {
      "model_module": "@jupyter-widgets/base",
      "model_module_version": "2.0.0",
      "model_name": "LayoutModel",
      "state": {}
     },
     "1716d5e57d2d4c3ca6aa013b7c42d412": {
      "model_module": "@jupyter-widgets/controls",
      "model_module_version": "2.0.0",
      "model_name": "HTMLStyleModel",
      "state": {
       "description_width": "",
       "font_size": null,
       "text_color": null
      }
     },
     "1851a0aedeee4e11b15c714c1dc847a8": {
      "model_module": "@jupyter-widgets/controls",
      "model_module_version": "2.0.0",
      "model_name": "FloatProgressModel",
      "state": {
       "bar_style": "success",
       "layout": "IPY_MODEL_20d4c4e5cf1a49caa66bf73635c166c0",
       "max": 90868376,
       "style": "IPY_MODEL_0f17000280394e7ca92c1b226da199e9",
       "value": 90868376
      }
     },
     "19754c5170a74315bf7ee7f6e9b6a908": {
      "model_module": "@jupyter-widgets/controls",
      "model_module_version": "2.0.0",
      "model_name": "HTMLModel",
      "state": {
       "layout": "IPY_MODEL_485bfce8f295450486bc32e1e06e63a2",
       "style": "IPY_MODEL_b20d6f25e4c74c52b5dd316d73cd99c1",
       "value": " 10.5k/? [00:00&lt;00:00, 564kB/s]"
      }
     },
     "1e33d7dfba724ae0bcc4afb12e758928": {
      "model_module": "@jupyter-widgets/controls",
      "model_module_version": "2.0.0",
      "model_name": "HTMLStyleModel",
      "state": {
       "description_width": "",
       "font_size": null,
       "text_color": null
      }
     },
     "201784155c364178ac948257d8e64dd8": {
      "model_module": "@jupyter-widgets/controls",
      "model_module_version": "2.0.0",
      "model_name": "HTMLStyleModel",
      "state": {
       "description_width": "",
       "font_size": null,
       "text_color": null
      }
     },
     "20d4c4e5cf1a49caa66bf73635c166c0": {
      "model_module": "@jupyter-widgets/base",
      "model_module_version": "2.0.0",
      "model_name": "LayoutModel",
      "state": {}
     },
     "211403d137bc48ada59189290d6e4b3e": {
      "model_module": "@jupyter-widgets/base",
      "model_module_version": "2.0.0",
      "model_name": "LayoutModel",
      "state": {}
     },
     "2256d46c7fec49b89fdb084e02bc6b3c": {
      "model_module": "@jupyter-widgets/controls",
      "model_module_version": "2.0.0",
      "model_name": "HBoxModel",
      "state": {
       "children": [
        "IPY_MODEL_448806ae4b8f41e6b2e56bf5bd765b27",
        "IPY_MODEL_e8362942c9eb419ea40817fcf2ab07f4",
        "IPY_MODEL_4d82c66054f846f6ac26ab264a58fd80"
       ],
       "layout": "IPY_MODEL_34b07f8f264a40e78151e777ee17f15f"
      }
     },
     "240cc0a1f07442ff96366d86aa5f27e8": {
      "model_module": "@jupyter-widgets/controls",
      "model_module_version": "2.0.0",
      "model_name": "ProgressStyleModel",
      "state": {
       "description_width": ""
      }
     },
     "2420d83a5e6548a58213aa7b52cad2bb": {
      "model_module": "@jupyter-widgets/base",
      "model_module_version": "2.0.0",
      "model_name": "LayoutModel",
      "state": {}
     },
     "27ebe9d8c7aa4ecbb0d31019246b4502": {
      "model_module": "@jupyter-widgets/base",
      "model_module_version": "2.0.0",
      "model_name": "LayoutModel",
      "state": {}
     },
     "2b922fe64d03404ea64195b41f8787a3": {
      "model_module": "@jupyter-widgets/base",
      "model_module_version": "2.0.0",
      "model_name": "LayoutModel",
      "state": {}
     },
     "2ddbe9a42e14405b9c4143f5ca382848": {
      "model_module": "@jupyter-widgets/controls",
      "model_module_version": "2.0.0",
      "model_name": "HTMLModel",
      "state": {
       "layout": "IPY_MODEL_a6733108e425425682b6486af2c16668",
       "style": "IPY_MODEL_4247a55a233c468a8b1cacbf06b44061",
       "value": " 90.9M/90.9M [00:08&lt;00:00, 12.6MB/s]"
      }
     },
     "2fd3e6bf60cb44999907b9cc5cabe3c4": {
      "model_module": "@jupyter-widgets/base",
      "model_module_version": "2.0.0",
      "model_name": "LayoutModel",
      "state": {}
     },
     "30267efb9d9d45e18dad31ee99aa517e": {
      "model_module": "@jupyter-widgets/controls",
      "model_module_version": "2.0.0",
      "model_name": "HTMLModel",
      "state": {
       "layout": "IPY_MODEL_dbe331ee18764a45a17791a0eda8f210",
       "style": "IPY_MODEL_3b765bc249ff4c21a51cc600640d9bd3",
       "value": "vocab.txt: "
      }
     },
     "34b07f8f264a40e78151e777ee17f15f": {
      "model_module": "@jupyter-widgets/base",
      "model_module_version": "2.0.0",
      "model_name": "LayoutModel",
      "state": {}
     },
     "3a2410dd35eb4caa8da83a8f9501750d": {
      "model_module": "@jupyter-widgets/controls",
      "model_module_version": "2.0.0",
      "model_name": "HBoxModel",
      "state": {
       "children": [
        "IPY_MODEL_feae3c26e5d2454494f8d0d270c9eccf",
        "IPY_MODEL_a55105302afd41978db2de3bf2780fab",
        "IPY_MODEL_c2e75114919641d0b5910f7b8c113bf7"
       ],
       "layout": "IPY_MODEL_211403d137bc48ada59189290d6e4b3e"
      }
     },
     "3b765bc249ff4c21a51cc600640d9bd3": {
      "model_module": "@jupyter-widgets/controls",
      "model_module_version": "2.0.0",
      "model_name": "HTMLStyleModel",
      "state": {
       "description_width": "",
       "font_size": null,
       "text_color": null
      }
     },
     "4247a55a233c468a8b1cacbf06b44061": {
      "model_module": "@jupyter-widgets/controls",
      "model_module_version": "2.0.0",
      "model_name": "HTMLStyleModel",
      "state": {
       "description_width": "",
       "font_size": null,
       "text_color": null
      }
     },
     "43645e14b6f748768eb9f84f9de8de07": {
      "model_module": "@jupyter-widgets/controls",
      "model_module_version": "2.0.0",
      "model_name": "HTMLModel",
      "state": {
       "layout": "IPY_MODEL_46b288b4b6694fa3871a0dfdacccad82",
       "style": "IPY_MODEL_9c78e899ddeb4bf390710b8b523701e5",
       "value": " 116/116 [00:00&lt;00:00, 6.50kB/s]"
      }
     },
     "448806ae4b8f41e6b2e56bf5bd765b27": {
      "model_module": "@jupyter-widgets/controls",
      "model_module_version": "2.0.0",
      "model_name": "HTMLModel",
      "state": {
       "layout": "IPY_MODEL_6625bd3e75184ea38fa16656696a9cd1",
       "style": "IPY_MODEL_ba9b7df6818d41f09f6a5fac5ba6e049",
       "value": "config.json: 100%"
      }
     },
     "46b288b4b6694fa3871a0dfdacccad82": {
      "model_module": "@jupyter-widgets/base",
      "model_module_version": "2.0.0",
      "model_name": "LayoutModel",
      "state": {}
     },
     "4846be8f68ae4ca9a8788c7a7fb10c9c": {
      "model_module": "@jupyter-widgets/controls",
      "model_module_version": "2.0.0",
      "model_name": "ProgressStyleModel",
      "state": {
       "description_width": ""
      }
     },
     "485bfce8f295450486bc32e1e06e63a2": {
      "model_module": "@jupyter-widgets/base",
      "model_module_version": "2.0.0",
      "model_name": "LayoutModel",
      "state": {}
     },
     "489e96e64b1042fca6d989becd314b87": {
      "model_module": "@jupyter-widgets/base",
      "model_module_version": "2.0.0",
      "model_name": "LayoutModel",
      "state": {}
     },
     "4a18fbf67f284ca68e5b39e635a9d21f": {
      "model_module": "@jupyter-widgets/controls",
      "model_module_version": "2.0.0",
      "model_name": "FloatProgressModel",
      "state": {
       "bar_style": "success",
       "layout": "IPY_MODEL_489e96e64b1042fca6d989becd314b87",
       "max": 116,
       "style": "IPY_MODEL_e7808d2a601b40958ba5eeb9db4d7399",
       "value": 116
      }
     },
     "4bdc20e45c974e5688dd68c0b67db4b3": {
      "model_module": "@jupyter-widgets/controls",
      "model_module_version": "2.0.0",
      "model_name": "ProgressStyleModel",
      "state": {
       "description_width": ""
      }
     },
     "4c76f8a5f92645ccb57635edd6a1ede8": {
      "model_module": "@jupyter-widgets/controls",
      "model_module_version": "2.0.0",
      "model_name": "HTMLModel",
      "state": {
       "layout": "IPY_MODEL_a7a2d2bb33ed4d19ba3cf329f172c8a6",
       "style": "IPY_MODEL_7699a5f674b34009978687f26cd9d5bc",
       "value": "config.json: 100%"
      }
     },
     "4d5a4a362fad429e896ef9b144266d1a": {
      "model_module": "@jupyter-widgets/controls",
      "model_module_version": "2.0.0",
      "model_name": "HBoxModel",
      "state": {
       "children": [
        "IPY_MODEL_bab3df15e63a40ed9d2671bd1e534472",
        "IPY_MODEL_4a18fbf67f284ca68e5b39e635a9d21f",
        "IPY_MODEL_43645e14b6f748768eb9f84f9de8de07"
       ],
       "layout": "IPY_MODEL_c289988726dc4b6983586d7428c6ad38"
      }
     },
     "4d82c66054f846f6ac26ab264a58fd80": {
      "model_module": "@jupyter-widgets/controls",
      "model_module_version": "2.0.0",
      "model_name": "HTMLModel",
      "state": {
       "layout": "IPY_MODEL_107e7320fba44c109e14741f81968e7a",
       "style": "IPY_MODEL_1e33d7dfba724ae0bcc4afb12e758928",
       "value": " 190/190 [00:00&lt;00:00, 9.48kB/s]"
      }
     },
     "4fa2246ca09149878064e50c5df45331": {
      "model_module": "@jupyter-widgets/base",
      "model_module_version": "2.0.0",
      "model_name": "LayoutModel",
      "state": {}
     },
     "5130f0d322884c9f9ef0ca8d7c134941": {
      "model_module": "@jupyter-widgets/controls",
      "model_module_version": "2.0.0",
      "model_name": "HTMLModel",
      "state": {
       "layout": "IPY_MODEL_fbbaa97b3f9e42f4a228b21cb2fe9b0a",
       "style": "IPY_MODEL_201784155c364178ac948257d8e64dd8",
       "value": "README.md: "
      }
     },
     "51fb9083974b4679ae683126694c574e": {
      "model_module": "@jupyter-widgets/controls",
      "model_module_version": "2.0.0",
      "model_name": "HBoxModel",
      "state": {
       "children": [
        "IPY_MODEL_6cd270067b8c48a2a02fa5d341126914",
        "IPY_MODEL_9367d5b4fa2843ed929b50134bca0e00",
        "IPY_MODEL_dfd2d6ee63544685ab2a4ec30684ac45"
       ],
       "layout": "IPY_MODEL_107068c581cc46239e0fb156316b6bea"
      }
     },
     "52aa0c352ea940d98a14f30f7fb6a526": {
      "model_module": "@jupyter-widgets/base",
      "model_module_version": "2.0.0",
      "model_name": "LayoutModel",
      "state": {}
     },
     "55d922fc11ee4f359cf297ffa43cbda9": {
      "model_module": "@jupyter-widgets/controls",
      "model_module_version": "2.0.0",
      "model_name": "ProgressStyleModel",
      "state": {
       "description_width": ""
      }
     },
     "56376a2340f34419bd9f6ef9b836f3db": {
      "model_module": "@jupyter-widgets/base",
      "model_module_version": "2.0.0",
      "model_name": "LayoutModel",
      "state": {}
     },
     "576b80ef9210422fade1ebca089c474e": {
      "model_module": "@jupyter-widgets/controls",
      "model_module_version": "2.0.0",
      "model_name": "HTMLStyleModel",
      "state": {
       "description_width": "",
       "font_size": null,
       "text_color": null
      }
     },
     "59a4cb89d0aa4a4ba65dd09ad130ac6b": {
      "model_module": "@jupyter-widgets/base",
      "model_module_version": "2.0.0",
      "model_name": "LayoutModel",
      "state": {}
     },
     "5e5e18d064614863bf920775505bdad9": {
      "model_module": "@jupyter-widgets/base",
      "model_module_version": "2.0.0",
      "model_name": "LayoutModel",
      "state": {}
     },
     "618bc9b6f658481ea72eb95277661faf": {
      "model_module": "@jupyter-widgets/base",
      "model_module_version": "2.0.0",
      "model_name": "LayoutModel",
      "state": {}
     },
     "6370b1071f9c41818f8e4671840efe46": {
      "model_module": "@jupyter-widgets/controls",
      "model_module_version": "2.0.0",
      "model_name": "FloatProgressModel",
      "state": {
       "bar_style": "success",
       "layout": "IPY_MODEL_618bc9b6f658481ea72eb95277661faf",
       "max": 112,
       "style": "IPY_MODEL_240cc0a1f07442ff96366d86aa5f27e8",
       "value": 112
      }
     },
     "6625bd3e75184ea38fa16656696a9cd1": {
      "model_module": "@jupyter-widgets/base",
      "model_module_version": "2.0.0",
      "model_name": "LayoutModel",
      "state": {}
     },
     "66796560c80a43afa934d284403edfe0": {
      "model_module": "@jupyter-widgets/base",
      "model_module_version": "2.0.0",
      "model_name": "LayoutModel",
      "state": {}
     },
     "6731544e8304466fba7233a67b753a69": {
      "model_module": "@jupyter-widgets/base",
      "model_module_version": "2.0.0",
      "model_name": "LayoutModel",
      "state": {
       "width": "20px"
      }
     },
     "6cd270067b8c48a2a02fa5d341126914": {
      "model_module": "@jupyter-widgets/controls",
      "model_module_version": "2.0.0",
      "model_name": "HTMLModel",
      "state": {
       "layout": "IPY_MODEL_56376a2340f34419bd9f6ef9b836f3db",
       "style": "IPY_MODEL_bb2507fca76541fe8f996d6d93cc0b0a",
       "value": "tokenizer.json: "
      }
     },
     "6df4b466f8db406b893c68e78815e0bc": {
      "model_module": "@jupyter-widgets/controls",
      "model_module_version": "2.0.0",
      "model_name": "HBoxModel",
      "state": {
       "children": [
        "IPY_MODEL_4c76f8a5f92645ccb57635edd6a1ede8",
        "IPY_MODEL_8866ca5fa9b1463bbca6afa8e26378b9",
        "IPY_MODEL_ea721ece13224059b873c9ac5eb2df79"
       ],
       "layout": "IPY_MODEL_2fd3e6bf60cb44999907b9cc5cabe3c4"
      }
     },
     "6f8e461a1246416faa4ba0ad1859dc11": {
      "model_module": "@jupyter-widgets/controls",
      "model_module_version": "2.0.0",
      "model_name": "HTMLStyleModel",
      "state": {
       "description_width": "",
       "font_size": null,
       "text_color": null
      }
     },
     "72f4e21fd50744079d3f88bb370a1f5d": {
      "model_module": "@jupyter-widgets/controls",
      "model_module_version": "2.0.0",
      "model_name": "HBoxModel",
      "state": {
       "children": [
        "IPY_MODEL_edfaea707abe45b19c5f23475695df54",
        "IPY_MODEL_6370b1071f9c41818f8e4671840efe46",
        "IPY_MODEL_0d5298589108479f894b1f25ad6cdd1e"
       ],
       "layout": "IPY_MODEL_75f8be4030e94e99a255179532c0795f"
      }
     },
     "75f8be4030e94e99a255179532c0795f": {
      "model_module": "@jupyter-widgets/base",
      "model_module_version": "2.0.0",
      "model_name": "LayoutModel",
      "state": {}
     },
     "7699a5f674b34009978687f26cd9d5bc": {
      "model_module": "@jupyter-widgets/controls",
      "model_module_version": "2.0.0",
      "model_name": "HTMLStyleModel",
      "state": {
       "description_width": "",
       "font_size": null,
       "text_color": null
      }
     },
     "77d3f888bb6e467982ccf34ba0024767": {
      "model_module": "@jupyter-widgets/controls",
      "model_module_version": "2.0.0",
      "model_name": "HTMLStyleModel",
      "state": {
       "description_width": "",
       "font_size": null,
       "text_color": null
      }
     },
     "7c4ca09505f14649be55d26b647c845f": {
      "model_module": "@jupyter-widgets/controls",
      "model_module_version": "2.0.0",
      "model_name": "HTMLStyleModel",
      "state": {
       "description_width": "",
       "font_size": null,
       "text_color": null
      }
     },
     "7e8b3ea9a59e4b27b373db69d5794787": {
      "model_module": "@jupyter-widgets/base",
      "model_module_version": "2.0.0",
      "model_name": "LayoutModel",
      "state": {}
     },
     "808f559220034dbeade4feecd748fac7": {
      "model_module": "@jupyter-widgets/base",
      "model_module_version": "2.0.0",
      "model_name": "LayoutModel",
      "state": {}
     },
     "80e685f7bd334a619493785b3150c04e": {
      "model_module": "@jupyter-widgets/controls",
      "model_module_version": "2.0.0",
      "model_name": "HTMLModel",
      "state": {
       "layout": "IPY_MODEL_a1269b738c0b4f258b8b234ee9f23590",
       "style": "IPY_MODEL_ad48161060374cfc9787ee73719a411d",
       "value": "modules.json: 100%"
      }
     },
     "843856b2b14746a7aa9466b6a7037ca6": {
      "model_module": "@jupyter-widgets/controls",
      "model_module_version": "2.0.0",
      "model_name": "HTMLStyleModel",
      "state": {
       "description_width": "",
       "font_size": null,
       "text_color": null
      }
     },
     "87e31d64be154e988fb9d09053fc3e58": {
      "model_module": "@jupyter-widgets/base",
      "model_module_version": "2.0.0",
      "model_name": "LayoutModel",
      "state": {}
     },
     "8866ca5fa9b1463bbca6afa8e26378b9": {
      "model_module": "@jupyter-widgets/controls",
      "model_module_version": "2.0.0",
      "model_name": "FloatProgressModel",
      "state": {
       "bar_style": "success",
       "layout": "IPY_MODEL_dcc60c1465a048b89ef5b77e9aa986ab",
       "max": 612,
       "style": "IPY_MODEL_55d922fc11ee4f359cf297ffa43cbda9",
       "value": 612
      }
     },
     "8e0f854072544bcba488a85316474a89": {
      "model_module": "@jupyter-widgets/base",
      "model_module_version": "2.0.0",
      "model_name": "LayoutModel",
      "state": {
       "width": "20px"
      }
     },
     "8e44b5945c824db1a56a4f4182d67754": {
      "model_module": "@jupyter-widgets/controls",
      "model_module_version": "2.0.0",
      "model_name": "ProgressStyleModel",
      "state": {
       "description_width": ""
      }
     },
     "93104a606ba142d893c27e6f93faf620": {
      "model_module": "@jupyter-widgets/controls",
      "model_module_version": "2.0.0",
      "model_name": "HBoxModel",
      "state": {
       "children": [
        "IPY_MODEL_dcc1774d43ed415b964077b70bd89ad7",
        "IPY_MODEL_1851a0aedeee4e11b15c714c1dc847a8",
        "IPY_MODEL_2ddbe9a42e14405b9c4143f5ca382848"
       ],
       "layout": "IPY_MODEL_66796560c80a43afa934d284403edfe0"
      }
     },
     "9367d5b4fa2843ed929b50134bca0e00": {
      "model_module": "@jupyter-widgets/controls",
      "model_module_version": "2.0.0",
      "model_name": "FloatProgressModel",
      "state": {
       "bar_style": "success",
       "layout": "IPY_MODEL_6731544e8304466fba7233a67b753a69",
       "max": 1,
       "style": "IPY_MODEL_4846be8f68ae4ca9a8788c7a7fb10c9c",
       "value": 1
      }
     },
     "9b94aff9657741b295154ebc35b3559e": {
      "model_module": "@jupyter-widgets/base",
      "model_module_version": "2.0.0",
      "model_name": "LayoutModel",
      "state": {}
     },
     "9c78e899ddeb4bf390710b8b523701e5": {
      "model_module": "@jupyter-widgets/controls",
      "model_module_version": "2.0.0",
      "model_name": "HTMLStyleModel",
      "state": {
       "description_width": "",
       "font_size": null,
       "text_color": null
      }
     },
     "9ee5bb22923c447098b8ac65a6fc3f28": {
      "model_module": "@jupyter-widgets/controls",
      "model_module_version": "2.0.0",
      "model_name": "HBoxModel",
      "state": {
       "children": [
        "IPY_MODEL_80e685f7bd334a619493785b3150c04e",
        "IPY_MODEL_ecb9e04264644b1787c3bdeb2f0249fc",
        "IPY_MODEL_1067649ca9bd4148b200b27f3b106168"
       ],
       "layout": "IPY_MODEL_27ebe9d8c7aa4ecbb0d31019246b4502"
      }
     },
     "a0fee098a6c74daba0264237677d6517": {
      "model_module": "@jupyter-widgets/base",
      "model_module_version": "2.0.0",
      "model_name": "LayoutModel",
      "state": {}
     },
     "a1269b738c0b4f258b8b234ee9f23590": {
      "model_module": "@jupyter-widgets/base",
      "model_module_version": "2.0.0",
      "model_name": "LayoutModel",
      "state": {}
     },
     "a54fc124da9342f69fe5012d14fd10db": {
      "model_module": "@jupyter-widgets/controls",
      "model_module_version": "2.0.0",
      "model_name": "FloatProgressModel",
      "state": {
       "bar_style": "success",
       "layout": "IPY_MODEL_b02366665f094908887e1936b6802520",
       "max": 1,
       "style": "IPY_MODEL_8e44b5945c824db1a56a4f4182d67754",
       "value": 1
      }
     },
     "a55105302afd41978db2de3bf2780fab": {
      "model_module": "@jupyter-widgets/controls",
      "model_module_version": "2.0.0",
      "model_name": "FloatProgressModel",
      "state": {
       "bar_style": "success",
       "layout": "IPY_MODEL_808f559220034dbeade4feecd748fac7",
       "max": 350,
       "style": "IPY_MODEL_0fb6403533304cddb301fc99fb2c6140",
       "value": 350
      }
     },
     "a6733108e425425682b6486af2c16668": {
      "model_module": "@jupyter-widgets/base",
      "model_module_version": "2.0.0",
      "model_name": "LayoutModel",
      "state": {}
     },
     "a7a2d2bb33ed4d19ba3cf329f172c8a6": {
      "model_module": "@jupyter-widgets/base",
      "model_module_version": "2.0.0",
      "model_name": "LayoutModel",
      "state": {}
     },
     "a7dfb5a2907a4040aee4e15221039fb8": {
      "model_module": "@jupyter-widgets/controls",
      "model_module_version": "2.0.0",
      "model_name": "HTMLStyleModel",
      "state": {
       "description_width": "",
       "font_size": null,
       "text_color": null
      }
     },
     "abdfca3cd83647029f87a814f78b917e": {
      "model_module": "@jupyter-widgets/controls",
      "model_module_version": "2.0.0",
      "model_name": "HTMLStyleModel",
      "state": {
       "description_width": "",
       "font_size": null,
       "text_color": null
      }
     },
     "ad48161060374cfc9787ee73719a411d": {
      "model_module": "@jupyter-widgets/controls",
      "model_module_version": "2.0.0",
      "model_name": "HTMLStyleModel",
      "state": {
       "description_width": "",
       "font_size": null,
       "text_color": null
      }
     },
     "ad73c3db9c4e4b308d71abbfab2d729b": {
      "model_module": "@jupyter-widgets/controls",
      "model_module_version": "2.0.0",
      "model_name": "HTMLModel",
      "state": {
       "layout": "IPY_MODEL_1629968acdc0412c9eab126a2315ab40",
       "style": "IPY_MODEL_843856b2b14746a7aa9466b6a7037ca6",
       "value": " 232k/? [00:00&lt;00:00, 9.75MB/s]"
      }
     },
     "ae85697472cb4b3bb67165bdc5ddfbac": {
      "model_module": "@jupyter-widgets/base",
      "model_module_version": "2.0.0",
      "model_name": "LayoutModel",
      "state": {}
     },
     "b02366665f094908887e1936b6802520": {
      "model_module": "@jupyter-widgets/base",
      "model_module_version": "2.0.0",
      "model_name": "LayoutModel",
      "state": {
       "width": "20px"
      }
     },
     "b20d6f25e4c74c52b5dd316d73cd99c1": {
      "model_module": "@jupyter-widgets/controls",
      "model_module_version": "2.0.0",
      "model_name": "HTMLStyleModel",
      "state": {
       "description_width": "",
       "font_size": null,
       "text_color": null
      }
     },
     "b23080c554c14d4289eec5c696bb094e": {
      "model_module": "@jupyter-widgets/base",
      "model_module_version": "2.0.0",
      "model_name": "LayoutModel",
      "state": {}
     },
     "b2de46918426461a8356ab72a037f4aa": {
      "model_module": "@jupyter-widgets/controls",
      "model_module_version": "2.0.0",
      "model_name": "HBoxModel",
      "state": {
       "children": [
        "IPY_MODEL_5130f0d322884c9f9ef0ca8d7c134941",
        "IPY_MODEL_a54fc124da9342f69fe5012d14fd10db",
        "IPY_MODEL_19754c5170a74315bf7ee7f6e9b6a908"
       ],
       "layout": "IPY_MODEL_e8b7a481490b4500b36b64d1339412f4"
      }
     },
     "b57968d3f4ba40e8a5dd5974f9295571": {
      "model_module": "@jupyter-widgets/controls",
      "model_module_version": "2.0.0",
      "model_name": "HTMLStyleModel",
      "state": {
       "description_width": "",
       "font_size": null,
       "text_color": null
      }
     },
     "ba9b7df6818d41f09f6a5fac5ba6e049": {
      "model_module": "@jupyter-widgets/controls",
      "model_module_version": "2.0.0",
      "model_name": "HTMLStyleModel",
      "state": {
       "description_width": "",
       "font_size": null,
       "text_color": null
      }
     },
     "bab3df15e63a40ed9d2671bd1e534472": {
      "model_module": "@jupyter-widgets/controls",
      "model_module_version": "2.0.0",
      "model_name": "HTMLModel",
      "state": {
       "layout": "IPY_MODEL_5e5e18d064614863bf920775505bdad9",
       "style": "IPY_MODEL_77d3f888bb6e467982ccf34ba0024767",
       "value": "config_sentence_transformers.json: 100%"
      }
     },
     "bb2507fca76541fe8f996d6d93cc0b0a": {
      "model_module": "@jupyter-widgets/controls",
      "model_module_version": "2.0.0",
      "model_name": "HTMLStyleModel",
      "state": {
       "description_width": "",
       "font_size": null,
       "text_color": null
      }
     },
     "bce58b3a7f7c47369eeaaf82fc4cd039": {
      "model_module": "@jupyter-widgets/controls",
      "model_module_version": "2.0.0",
      "model_name": "FloatProgressModel",
      "state": {
       "bar_style": "success",
       "layout": "IPY_MODEL_8e0f854072544bcba488a85316474a89",
       "max": 1,
       "style": "IPY_MODEL_4bdc20e45c974e5688dd68c0b67db4b3",
       "value": 1
      }
     },
     "bdf85e839aca4c7486fd6dcc8be62303": {
      "model_module": "@jupyter-widgets/controls",
      "model_module_version": "2.0.0",
      "model_name": "HBoxModel",
      "state": {
       "children": [
        "IPY_MODEL_cb4c4df41c924358a3d0c445f74a65c2",
        "IPY_MODEL_f08e2d97588a47ab97a64c3c6eba715c",
        "IPY_MODEL_c48a28829c284a49982308e2ca646dce"
       ],
       "layout": "IPY_MODEL_87e31d64be154e988fb9d09053fc3e58"
      }
     },
     "c289988726dc4b6983586d7428c6ad38": {
      "model_module": "@jupyter-widgets/base",
      "model_module_version": "2.0.0",
      "model_name": "LayoutModel",
      "state": {}
     },
     "c2e75114919641d0b5910f7b8c113bf7": {
      "model_module": "@jupyter-widgets/controls",
      "model_module_version": "2.0.0",
      "model_name": "HTMLModel",
      "state": {
       "layout": "IPY_MODEL_06217b3d368945d497e68a440c857222",
       "style": "IPY_MODEL_eaa16c567350493a9bf67ab1427b0e27",
       "value": " 350/350 [00:00&lt;00:00, 17.8kB/s]"
      }
     },
     "c48a28829c284a49982308e2ca646dce": {
      "model_module": "@jupyter-widgets/controls",
      "model_module_version": "2.0.0",
      "model_name": "HTMLModel",
      "state": {
       "layout": "IPY_MODEL_4fa2246ca09149878064e50c5df45331",
       "style": "IPY_MODEL_576b80ef9210422fade1ebca089c474e",
       "value": " 53.0/53.0 [00:00&lt;00:00, 2.71kB/s]"
      }
     },
     "cb4c4df41c924358a3d0c445f74a65c2": {
      "model_module": "@jupyter-widgets/controls",
      "model_module_version": "2.0.0",
      "model_name": "HTMLModel",
      "state": {
       "layout": "IPY_MODEL_ae85697472cb4b3bb67165bdc5ddfbac",
       "style": "IPY_MODEL_1716d5e57d2d4c3ca6aa013b7c42d412",
       "value": "sentence_bert_config.json: 100%"
      }
     },
     "cf53ec1da4e74b3f8168409704d9c4d7": {
      "model_module": "@jupyter-widgets/controls",
      "model_module_version": "2.0.0",
      "model_name": "HTMLStyleModel",
      "state": {
       "description_width": "",
       "font_size": null,
       "text_color": null
      }
     },
     "dbe331ee18764a45a17791a0eda8f210": {
      "model_module": "@jupyter-widgets/base",
      "model_module_version": "2.0.0",
      "model_name": "LayoutModel",
      "state": {}
     },
     "dc4ce05d7c274e629aeb2ccfd0231ef9": {
      "model_module": "@jupyter-widgets/controls",
      "model_module_version": "2.0.0",
      "model_name": "HBoxModel",
      "state": {
       "children": [
        "IPY_MODEL_30267efb9d9d45e18dad31ee99aa517e",
        "IPY_MODEL_bce58b3a7f7c47369eeaaf82fc4cd039",
        "IPY_MODEL_ad73c3db9c4e4b308d71abbfab2d729b"
       ],
       "layout": "IPY_MODEL_7e8b3ea9a59e4b27b373db69d5794787"
      }
     },
     "dcc1774d43ed415b964077b70bd89ad7": {
      "model_module": "@jupyter-widgets/controls",
      "model_module_version": "2.0.0",
      "model_name": "HTMLModel",
      "state": {
       "layout": "IPY_MODEL_59a4cb89d0aa4a4ba65dd09ad130ac6b",
       "style": "IPY_MODEL_a7dfb5a2907a4040aee4e15221039fb8",
       "value": "model.safetensors: 100%"
      }
     },
     "dcc60c1465a048b89ef5b77e9aa986ab": {
      "model_module": "@jupyter-widgets/base",
      "model_module_version": "2.0.0",
      "model_name": "LayoutModel",
      "state": {}
     },
     "dfd2d6ee63544685ab2a4ec30684ac45": {
      "model_module": "@jupyter-widgets/controls",
      "model_module_version": "2.0.0",
      "model_name": "HTMLModel",
      "state": {
       "layout": "IPY_MODEL_2b922fe64d03404ea64195b41f8787a3",
       "style": "IPY_MODEL_abdfca3cd83647029f87a814f78b917e",
       "value": " 466k/? [00:00&lt;00:00, 14.6MB/s]"
      }
     },
     "e7808d2a601b40958ba5eeb9db4d7399": {
      "model_module": "@jupyter-widgets/controls",
      "model_module_version": "2.0.0",
      "model_name": "ProgressStyleModel",
      "state": {
       "description_width": ""
      }
     },
     "e8362942c9eb419ea40817fcf2ab07f4": {
      "model_module": "@jupyter-widgets/controls",
      "model_module_version": "2.0.0",
      "model_name": "FloatProgressModel",
      "state": {
       "bar_style": "success",
       "layout": "IPY_MODEL_16f0a382d7a9493a8c41d0ec275c95e3",
       "max": 190,
       "style": "IPY_MODEL_f835d4d8f38241e79e75942282361090",
       "value": 190
      }
     },
     "e8b7a481490b4500b36b64d1339412f4": {
      "model_module": "@jupyter-widgets/base",
      "model_module_version": "2.0.0",
      "model_name": "LayoutModel",
      "state": {}
     },
     "ea721ece13224059b873c9ac5eb2df79": {
      "model_module": "@jupyter-widgets/controls",
      "model_module_version": "2.0.0",
      "model_name": "HTMLModel",
      "state": {
       "layout": "IPY_MODEL_2420d83a5e6548a58213aa7b52cad2bb",
       "style": "IPY_MODEL_ec68addace9e4cdd9dfecfcd28d983e8",
       "value": " 612/612 [00:00&lt;00:00, 29.1kB/s]"
      }
     },
     "eaa16c567350493a9bf67ab1427b0e27": {
      "model_module": "@jupyter-widgets/controls",
      "model_module_version": "2.0.0",
      "model_name": "HTMLStyleModel",
      "state": {
       "description_width": "",
       "font_size": null,
       "text_color": null
      }
     },
     "ec68addace9e4cdd9dfecfcd28d983e8": {
      "model_module": "@jupyter-widgets/controls",
      "model_module_version": "2.0.0",
      "model_name": "HTMLStyleModel",
      "state": {
       "description_width": "",
       "font_size": null,
       "text_color": null
      }
     },
     "ecb9e04264644b1787c3bdeb2f0249fc": {
      "model_module": "@jupyter-widgets/controls",
      "model_module_version": "2.0.0",
      "model_name": "FloatProgressModel",
      "state": {
       "bar_style": "success",
       "layout": "IPY_MODEL_a0fee098a6c74daba0264237677d6517",
       "max": 349,
       "style": "IPY_MODEL_fe4301b3f5f844b885d1e86b3ab6254c",
       "value": 349
      }
     },
     "ece27a834dc94baf8e7a0e1add04410c": {
      "model_module": "@jupyter-widgets/base",
      "model_module_version": "2.0.0",
      "model_name": "LayoutModel",
      "state": {}
     },
     "edfaea707abe45b19c5f23475695df54": {
      "model_module": "@jupyter-widgets/controls",
      "model_module_version": "2.0.0",
      "model_name": "HTMLModel",
      "state": {
       "layout": "IPY_MODEL_ece27a834dc94baf8e7a0e1add04410c",
       "style": "IPY_MODEL_b57968d3f4ba40e8a5dd5974f9295571",
       "value": "special_tokens_map.json: 100%"
      }
     },
     "f08e2d97588a47ab97a64c3c6eba715c": {
      "model_module": "@jupyter-widgets/controls",
      "model_module_version": "2.0.0",
      "model_name": "FloatProgressModel",
      "state": {
       "bar_style": "success",
       "layout": "IPY_MODEL_52aa0c352ea940d98a14f30f7fb6a526",
       "max": 53,
       "style": "IPY_MODEL_0ba26f18678643559f9788c885226e63",
       "value": 53
      }
     },
     "f835d4d8f38241e79e75942282361090": {
      "model_module": "@jupyter-widgets/controls",
      "model_module_version": "2.0.0",
      "model_name": "ProgressStyleModel",
      "state": {
       "description_width": ""
      }
     },
     "fbbaa97b3f9e42f4a228b21cb2fe9b0a": {
      "model_module": "@jupyter-widgets/base",
      "model_module_version": "2.0.0",
      "model_name": "LayoutModel",
      "state": {}
     },
     "fd17f75df7dc4f19b83530df3fcc1e7c": {
      "model_module": "@jupyter-widgets/base",
      "model_module_version": "2.0.0",
      "model_name": "LayoutModel",
      "state": {}
     },
     "fe4301b3f5f844b885d1e86b3ab6254c": {
      "model_module": "@jupyter-widgets/controls",
      "model_module_version": "2.0.0",
      "model_name": "ProgressStyleModel",
      "state": {
       "description_width": ""
      }
     },
     "feae3c26e5d2454494f8d0d270c9eccf": {
      "model_module": "@jupyter-widgets/controls",
      "model_module_version": "2.0.0",
      "model_name": "HTMLModel",
      "state": {
       "layout": "IPY_MODEL_9b94aff9657741b295154ebc35b3559e",
       "style": "IPY_MODEL_7c4ca09505f14649be55d26b647c845f",
       "value": "tokenizer_config.json: 100%"
      }
     }
    },
    "version_major": 2,
    "version_minor": 0
   }
  }
 },
 "nbformat": 4,
 "nbformat_minor": 5
}
